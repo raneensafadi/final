{
  "metadata": {
    "kernelspec": {
      "language": "python",
      "display_name": "Python 3",
      "name": "python3"
    },
    "language_info": {
      "name": "python",
      "version": "3.10.13",
      "mimetype": "text/x-python",
      "codemirror_mode": {
        "name": "ipython",
        "version": 3
      },
      "pygments_lexer": "ipython3",
      "nbconvert_exporter": "python",
      "file_extension": ".py"
    },
    "kaggle": {
      "accelerator": "none",
      "dataSources": [],
      "dockerImageVersionId": 30732,
      "isInternetEnabled": false,
      "language": "python",
      "sourceType": "notebook",
      "isGpuEnabled": false
    },
    "colab": {
      "name": "notebook9367fb89bd",
      "provenance": [],
      "include_colab_link": true
    }
  },
  "nbformat_minor": 0,
  "nbformat": 4,
  "cells": [
    {
      "cell_type": "markdown",
      "metadata": {
        "id": "view-in-github",
        "colab_type": "text"
      },
      "source": [
        "<a href=\"https://colab.research.google.com/github/raneensafadi/final/blob/main/notebook9367fb89bd.ipynb\" target=\"_parent\"><img src=\"https://colab.research.google.com/assets/colab-badge.svg\" alt=\"Open In Colab\"/></a>"
      ]
    },
    {
      "cell_type": "code",
      "source": [
        "# This Python 3 environment comes with many helpful analytics libraries installed\n",
        "# It is defined by the kaggle/python Docker image: https://github.com/kaggle/docker-python\n",
        "# For example, here's several helpful packages to load\n",
        "\n",
        "import numpy as np # linear algebra\n",
        "import pandas as pd # data processing, CSV file I/O (e.g. pd.read_csv)\n",
        "\n",
        "# Input data files are available in the read-only \"../input/\" directory\n",
        "# For example, running this (by clicking run or pressing Shift+Enter) will list all files under the input directory\n",
        "\n",
        "import os\n",
        "for dirname, _, filenames in os.walk('/kaggle/input'):\n",
        "    for filename in filenames:\n",
        "        print(os.path.join(dirname, filename))\n",
        "\n",
        "# You can write up to 20GB to the current directory (/kaggle/working/) that gets preserved as output when you create a version using \"Save & Run All\"\n",
        "# You can also write temporary files to /kaggle/temp/, but they won't be saved outside of the current session"
      ],
      "metadata": {
        "_uuid": "8f2839f25d086af736a60e9eeb907d3b93b6e0e5",
        "_cell_guid": "b1076dfc-b9ad-4769-8c92-a6c4dae69d19",
        "execution": {
          "iopub.status.busy": "2024-06-20T15:07:20.57195Z",
          "iopub.execute_input": "2024-06-20T15:07:20.572373Z",
          "iopub.status.idle": "2024-06-20T15:07:20.580551Z",
          "shell.execute_reply.started": "2024-06-20T15:07:20.572343Z",
          "shell.execute_reply": "2024-06-20T15:07:20.57929Z"
        },
        "trusted": true,
        "id": "yTBjxLBLQAGT"
      },
      "execution_count": 1,
      "outputs": []
    },
    {
      "cell_type": "code",
      "source": [
        "# Machine Learning 2022 Assignment 1\n",
        "\n",
        "**Name:** raneensafadi\n",
        "**ID Number:** 207655473\n",
        "**Kaggle Account:** https://www.kaggle.com/raneensafadi\n",
        "\n"
      ],
      "metadata": {
        "execution": {
          "iopub.status.busy": "2024-06-20T15:07:33.527888Z",
          "iopub.execute_input": "2024-06-20T15:07:33.528321Z",
          "iopub.status.idle": "2024-06-20T15:07:33.535321Z",
          "shell.execute_reply.started": "2024-06-20T15:07:33.52827Z",
          "shell.execute_reply": "2024-06-20T15:07:33.533623Z"
        },
        "trusted": true,
        "id": "iZGDC2kIQAGX",
        "outputId": "64b86460-0de2-4e35-d95c-10e8d0a1268f"
      },
      "execution_count": null,
      "outputs": [
        {
          "traceback": [
            "\u001b[0;36m  Cell \u001b[0;32mIn[10], line 3\u001b[0;36m\u001b[0m\n\u001b[0;31m    **Name:** raneensafadi\u001b[0m\n\u001b[0m    ^\u001b[0m\n\u001b[0;31mSyntaxError\u001b[0m\u001b[0;31m:\u001b[0m invalid syntax\n"
          ],
          "ename": "SyntaxError",
          "evalue": "invalid syntax (1674391903.py, line 3)",
          "output_type": "error"
        }
      ]
    },
    {
      "cell_type": "markdown",
      "source": [
        "## TL;DR\n",
        "\n",
        "This notebook is part of the \"Titanic: Machine Learning from Disaster\" competition. The goal is to predict survival on the Titanic based on a set of features. We will perform EDA, feature engineering, and build models using Logistic Regression and MLP. The final model will be evaluated based on accuracy.\n"
      ],
      "metadata": {
        "id": "tlh2WO-AQAGZ"
      }
    },
    {
      "cell_type": "markdown",
      "source": [],
      "metadata": {
        "id": "oH-2wYTHQAGa"
      }
    },
    {
      "cell_type": "markdown",
      "source": [],
      "metadata": {
        "id": "NM9xHv1zQAGb"
      }
    },
    {
      "cell_type": "code",
      "source": [
        "import numpy as np\n",
        "import pandas as pd\n",
        "import matplotlib.pyplot as plt\n",
        "import seaborn as sns\n",
        "from sklearn.model_selection import train_test_split\n",
        "from sklearn.linear_model import LogisticRegression\n",
        "from sklearn.neural_network import MLPClassifier\n",
        "from sklearn.metrics import accuracy_score\n",
        "\n",
        "# Load the dataset\n",
        "train_data = pd.read_csv('/kaggle/input/titanic/train.csv')\n",
        "test_data = pd.read_csv('/kaggle/input/titanic/test.csv')\n",
        "\n",
        "# Display the first few rows of the dataset\n",
        "train_data.head()\n"
      ],
      "metadata": {
        "execution": {
          "iopub.status.busy": "2024-06-20T15:07:20.596406Z",
          "iopub.status.idle": "2024-06-20T15:07:20.596847Z",
          "shell.execute_reply.started": "2024-06-20T15:07:20.596618Z",
          "shell.execute_reply": "2024-06-20T15:07:20.596642Z"
        },
        "trusted": true,
        "id": "1lf8DiPAQAGb"
      },
      "execution_count": null,
      "outputs": []
    },
    {
      "cell_type": "code",
      "source": [
        "# Basic data information\n",
        "train_data.info()\n",
        "\n",
        "# Summary statistics\n",
        "train_data.describe()\n",
        "\n",
        "# Checking for missing values\n",
        "train_data.isnull().sum()\n",
        "\n",
        "# Visualization of survival rate\n",
        "sns.countplot(x='Survived', data=train_data)\n",
        "plt.title('Survival Count')\n",
        "plt.show()\n",
        "\n",
        "# Visualization of survival rate by gender\n",
        "sns.countplot(x='Survived', hue='Sex', data=train_data)\n",
        "plt.title('Survival by Gender')\n",
        "plt.show()\n",
        "\n",
        "# Visualization of survival rate by class\n",
        "sns.countplot(x='Survived', hue='Pclass', data=train_data)\n",
        "plt.title('Survival by Class')\n",
        "plt.show()\n"
      ],
      "metadata": {
        "execution": {
          "iopub.status.busy": "2024-06-20T15:07:20.598553Z",
          "iopub.status.idle": "2024-06-20T15:07:20.598971Z",
          "shell.execute_reply.started": "2024-06-20T15:07:20.59877Z",
          "shell.execute_reply": "2024-06-20T15:07:20.598786Z"
        },
        "trusted": true,
        "id": "Yf8gJAVZQAGb"
      },
      "execution_count": null,
      "outputs": []
    },
    {
      "cell_type": "code",
      "source": [
        "# Fill missing values for 'Age' with the median\n",
        "train_data['Age'].fillna(train_data['Age'].median(), inplace=True)\n",
        "test_data['Age'].fillna(test_data['Age'].median(), inplace=True)\n",
        "\n",
        "# Fill missing values for 'Embarked' with the mode\n",
        "train_data['Embarked'].fillna(train_data['Embarked'].mode()[0], inplace=True)\n",
        "test_data['Embarked'].fillna(test_data['Embarked'].mode()[0], inplace=True)\n",
        "\n",
        "# Fill missing values for 'Fare' in test data with the median\n",
        "test_data['Fare'].fillna(test_data['Fare'].median(), inplace=True)\n",
        "\n",
        "# Convert categorical features to numerical\n",
        "train_data['Sex'] = train_data['Sex'].map({'male': 0, 'female': 1})\n",
        "test_data['Sex'] = test_data['Sex'].map({'male': 0, 'female': 1})\n",
        "\n",
        "train_data = pd.get_dummies(train_data, columns=['Embarked'], drop_first=True)\n",
        "test_data = pd.get_dummies(test_data, columns=['Embarked'], drop_first=True)\n",
        "\n",
        "# Drop unnecessary columns\n",
        "train_data.drop(['Name', 'Ticket', 'Cabin'], axis=1, inplace=True)\n",
        "test_data.drop(['Name', 'Ticket', 'Cabin'], axis=1, inplace=True)\n",
        "\n",
        "# Define features and target variable\n",
        "X = train_data.drop(['Survived', 'PassengerId'], axis=1)\n",
        "y = train_data['Survived']\n",
        "\n",
        "# Split the data into training and validation sets\n",
        "X_train, X_val, y_train, y_val = train_test_split(X, y, test_size=0.2, random_state=42)\n"
      ],
      "metadata": {
        "execution": {
          "iopub.status.busy": "2024-06-20T15:07:20.601904Z",
          "iopub.status.idle": "2024-06-20T15:07:20.602486Z",
          "shell.execute_reply.started": "2024-06-20T15:07:20.602201Z",
          "shell.execute_reply": "2024-06-20T15:07:20.602224Z"
        },
        "trusted": true,
        "id": "J3iMhHGpQAGc"
      },
      "execution_count": null,
      "outputs": []
    },
    {
      "cell_type": "code",
      "source": [
        "# Logistic Regression\n",
        "logreg = LogisticRegression(max_iter=200)\n",
        "logreg.fit(X_train, y_train)\n",
        "y_pred_logreg = logreg.predict(X_val)\n",
        "accuracy_logreg = accuracy_score(y_val, y_pred_logreg)\n",
        "print(f'Logistic Regression Accuracy: {accuracy_logreg:.2f}')\n",
        "\n",
        "# MLP Classifier\n",
        "mlp = MLPClassifier(max_iter=200, random_state=42)\n",
        "mlp.fit(X_train, y_train)\n",
        "y_pred_mlp = mlp.predict(X_val)\n",
        "accuracy_mlp = accuracy_score(y_val, y_pred_mlp)\n",
        "print(f'MLP Classifier Accuracy: {accuracy_mlp:.2f}')\n"
      ],
      "metadata": {
        "execution": {
          "iopub.status.busy": "2024-06-20T15:07:20.604298Z",
          "iopub.status.idle": "2024-06-20T15:07:20.604837Z",
          "shell.execute_reply.started": "2024-06-20T15:07:20.604561Z",
          "shell.execute_reply": "2024-06-20T15:07:20.604585Z"
        },
        "trusted": true,
        "id": "ryNJR0tMQAGc"
      },
      "execution_count": null,
      "outputs": []
    },
    {
      "cell_type": "code",
      "source": [
        "# Prepare submission\n",
        "best_model = logreg if accuracy_logreg > accuracy_mlp else mlp\n",
        "test_data_features = test_data.drop('PassengerId', axis=1)\n",
        "predictions = best_model.predict(test_data_features)\n",
        "\n",
        "submission = pd.DataFrame({\n",
        "    'PassengerId': test_data['PassengerId'],\n",
        "    'Survived': predictions\n",
        "})\n",
        "\n",
        "submission.to_csv('submission.csv', index=False)\n"
      ],
      "metadata": {
        "execution": {
          "iopub.status.busy": "2024-06-20T15:07:20.60612Z",
          "iopub.status.idle": "2024-06-20T15:07:20.60664Z",
          "shell.execute_reply.started": "2024-06-20T15:07:20.606377Z",
          "shell.execute_reply": "2024-06-20T15:07:20.606398Z"
        },
        "trusted": true,
        "id": "fKRNB4JYQAGd"
      },
      "execution_count": null,
      "outputs": []
    },
    {
      "cell_type": "code",
      "source": [],
      "metadata": {
        "jupyter": {
          "source_hidden": true
        },
        "id": "O9nFLAqtQAGd"
      },
      "execution_count": null,
      "outputs": []
    },
    {
      "cell_type": "markdown",
      "source": [
        "# Prepare submission\n",
        "best_model = logreg if accuracy_logreg > accuracy_mlp else mlp\n",
        "test_data_features = test_data.drop('PassengerId', axis=1)\n",
        "predictions = best_model.predict(test_data_features)\n",
        "\n",
        "submission = pd.DataFrame({\n",
        "    'PassengerId': test_data['PassengerId'],\n",
        "    'Survived': predictions\n",
        "})\n",
        "\n",
        "submission.to_csv('submission.csv', index=False)\n"
      ],
      "metadata": {
        "id": "u3qkraC-QAGd"
      }
    },
    {
      "cell_type": "markdown",
      "source": [],
      "metadata": {
        "id": "IkcnGakfQAGd"
      }
    }
  ]
}