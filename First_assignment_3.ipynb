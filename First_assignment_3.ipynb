{
  "nbformat": 4,
  "nbformat_minor": 0,
  "metadata": {
    "colab": {
      "name": "First assignment.ipynb",
      "provenance": [],
      "collapsed_sections": [],
      "toc_visible": true
    },
    "kernelspec": {
      "name": "python3",
      "display_name": "Python 3"
    },
    "language_info": {
      "name": "python"
    }
  },
  "cells": [
    {
      "cell_type": "markdown",
      "metadata": {
        "id": "njECnfEBvB-C"
      },
      "source": [
        "# First Assignment"
      ]
    },
    {
      "cell_type": "markdown",
      "metadata": {
        "id": "MxA8dmXyzMJm"
      },
      "source": [
        "## Regression task\n",
        "\n",
        "For this task we selected the *100,000 UK Used Car Data set* from Kaggle.  \n",
        "The dataset comes in several files - by manufacturer.  \n",
        "Two of the manufacturers had missing columns.  We decided not to include them."
      ]
    },
    {
      "cell_type": "code",
      "metadata": {
        "id": "Gx8GlvU23Paq"
      },
      "source": [
        "# Import general use packages\n",
        "import pandas as pd\n",
        "import numpy as np\n",
        "import matplotlib.pyplot as plt\n",
        "plt.style.use('seaborn')\n",
        "from zipfile import ZipFile\n",
        "import requests\n",
        "import seaborn as sns"
      ],
      "execution_count": null,
      "outputs": []
    },
    {
      "cell_type": "code",
      "metadata": {
        "id": "Xw4QzcWf7VGh"
      },
      "source": [
        "# This block of code is for running the notebook in Google Colab\n",
        "from google.colab import files\n",
        "files.upload()\n",
        "! mkdir ~/.kaggle\n",
        "! cp kaggle.json ~/.kaggle/\n",
        "! chmod 600 ~/.kaggle/kaggle.json\n",
        "import kaggle\n",
        "kaggle.api.authenticate()"
      ],
      "execution_count": null,
      "outputs": []
    },
    {
      "cell_type": "code",
      "metadata": {
        "colab": {
          "base_uri": "https://localhost:8080/"
        },
        "id": "IU2uZt3Q8PJz",
        "outputId": "944ba1a8-fbb9-4be7-92ec-eb579c2dc7d3"
      },
      "source": [
        "# Download the dataset\n",
        "! kaggle datasets download -d adityadesai13/used-car-dataset-ford-and-mercedes"
      ],
      "execution_count": null,
      "outputs": [
        {
          "output_type": "stream",
          "name": "stdout",
          "text": [
            "used-car-dataset-ford-and-mercedes.zip: Skipping, found more recently modified local copy (use --force to force download)\n"
          ]
        }
      ]
    },
    {
      "cell_type": "code",
      "metadata": {
        "id": "04WKF6xHBoSD"
      },
      "source": [
        "# Read the data\n",
        "col_names = ['model', 'year', 'price', 'transmission', 'milage', 'fuel_type', 'tax', 'mpg', 'engine_size']\n",
        "datasets = []\n",
        "with ZipFile('/content/used-car-dataset-ford-and-mercedes.zip') as zf:\n",
        "  for file in zf.namelist():\n",
        "    manufacturer = file.split('.')[0]\n",
        "    if 'focus' in manufacturer or 'cclass' in manufacturer:\n",
        "      continue\n",
        "    \n",
        "    datasets.append(pd.read_csv(zf.open(file), header=None, names=col_names, skiprows=1).dropna(how='all'))\n",
        "    datasets[-1].loc[:, 'manufacturer'] = manufacturer\n",
        "\n",
        "raw_dataset = pd.concat(datasets, ignore_index=True)"
      ],
      "execution_count": null,
      "outputs": []
    },
    {
      "cell_type": "code",
      "metadata": {
        "colab": {
          "base_uri": "https://localhost:8080/"
        },
        "id": "aGiDTT0iDj5p",
        "outputId": "9cbe5240-b2ac-4351-caf6-b53777eb890a"
      },
      "source": [
        "raw_dataset.info()"
      ],
      "execution_count": null,
      "outputs": [
        {
          "output_type": "stream",
          "name": "stdout",
          "text": [
            "<class 'pandas.core.frame.DataFrame'>\n",
            "RangeIndex: 99187 entries, 0 to 99186\n",
            "Data columns (total 10 columns):\n",
            " #   Column        Non-Null Count  Dtype  \n",
            "---  ------        --------------  -----  \n",
            " 0   model         99187 non-null  object \n",
            " 1   year          99187 non-null  int64  \n",
            " 2   price         99187 non-null  int64  \n",
            " 3   transmission  99187 non-null  object \n",
            " 4   milage        99187 non-null  int64  \n",
            " 5   fuel_type     99187 non-null  object \n",
            " 6   tax           99187 non-null  int64  \n",
            " 7   mpg           99187 non-null  float64\n",
            " 8   engine_size   99187 non-null  float64\n",
            " 9   manufacturer  99187 non-null  object \n",
            "dtypes: float64(2), int64(4), object(4)\n",
            "memory usage: 7.6+ MB\n"
          ]
        }
      ]
    },
    {
      "cell_type": "code",
      "metadata": {
        "colab": {
          "base_uri": "https://localhost:8080/",
          "height": 204
        },
        "id": "Xq939pCZfmXV",
        "outputId": "9ec7f435-99a3-45c4-8706-3a9ba571ff17"
      },
      "source": [
        "raw_dataset.head()"
      ],
      "execution_count": null,
      "outputs": [
        {
          "output_type": "execute_result",
          "data": {
            "text/html": [
              "<div>\n",
              "<style scoped>\n",
              "    .dataframe tbody tr th:only-of-type {\n",
              "        vertical-align: middle;\n",
              "    }\n",
              "\n",
              "    .dataframe tbody tr th {\n",
              "        vertical-align: top;\n",
              "    }\n",
              "\n",
              "    .dataframe thead th {\n",
              "        text-align: right;\n",
              "    }\n",
              "</style>\n",
              "<table border=\"1\" class=\"dataframe\">\n",
              "  <thead>\n",
              "    <tr style=\"text-align: right;\">\n",
              "      <th></th>\n",
              "      <th>model</th>\n",
              "      <th>year</th>\n",
              "      <th>price</th>\n",
              "      <th>transmission</th>\n",
              "      <th>milage</th>\n",
              "      <th>fuel_type</th>\n",
              "      <th>tax</th>\n",
              "      <th>mpg</th>\n",
              "      <th>engine_size</th>\n",
              "      <th>manufacturer</th>\n",
              "    </tr>\n",
              "  </thead>\n",
              "  <tbody>\n",
              "    <tr>\n",
              "      <th>0</th>\n",
              "      <td>A1</td>\n",
              "      <td>2017</td>\n",
              "      <td>12500</td>\n",
              "      <td>Manual</td>\n",
              "      <td>15735</td>\n",
              "      <td>Petrol</td>\n",
              "      <td>150</td>\n",
              "      <td>55.4</td>\n",
              "      <td>1.4</td>\n",
              "      <td>audi</td>\n",
              "    </tr>\n",
              "    <tr>\n",
              "      <th>1</th>\n",
              "      <td>A6</td>\n",
              "      <td>2016</td>\n",
              "      <td>16500</td>\n",
              "      <td>Automatic</td>\n",
              "      <td>36203</td>\n",
              "      <td>Diesel</td>\n",
              "      <td>20</td>\n",
              "      <td>64.2</td>\n",
              "      <td>2.0</td>\n",
              "      <td>audi</td>\n",
              "    </tr>\n",
              "    <tr>\n",
              "      <th>2</th>\n",
              "      <td>A1</td>\n",
              "      <td>2016</td>\n",
              "      <td>11000</td>\n",
              "      <td>Manual</td>\n",
              "      <td>29946</td>\n",
              "      <td>Petrol</td>\n",
              "      <td>30</td>\n",
              "      <td>55.4</td>\n",
              "      <td>1.4</td>\n",
              "      <td>audi</td>\n",
              "    </tr>\n",
              "    <tr>\n",
              "      <th>3</th>\n",
              "      <td>A4</td>\n",
              "      <td>2017</td>\n",
              "      <td>16800</td>\n",
              "      <td>Automatic</td>\n",
              "      <td>25952</td>\n",
              "      <td>Diesel</td>\n",
              "      <td>145</td>\n",
              "      <td>67.3</td>\n",
              "      <td>2.0</td>\n",
              "      <td>audi</td>\n",
              "    </tr>\n",
              "    <tr>\n",
              "      <th>4</th>\n",
              "      <td>A3</td>\n",
              "      <td>2019</td>\n",
              "      <td>17300</td>\n",
              "      <td>Manual</td>\n",
              "      <td>1998</td>\n",
              "      <td>Petrol</td>\n",
              "      <td>145</td>\n",
              "      <td>49.6</td>\n",
              "      <td>1.0</td>\n",
              "      <td>audi</td>\n",
              "    </tr>\n",
              "  </tbody>\n",
              "</table>\n",
              "</div>"
            ],
            "text/plain": [
              "  model  year  price transmission  ...  tax   mpg  engine_size  manufacturer\n",
              "0    A1  2017  12500       Manual  ...  150  55.4          1.4          audi\n",
              "1    A6  2016  16500    Automatic  ...   20  64.2          2.0          audi\n",
              "2    A1  2016  11000       Manual  ...   30  55.4          1.4          audi\n",
              "3    A4  2017  16800    Automatic  ...  145  67.3          2.0          audi\n",
              "4    A3  2019  17300       Manual  ...  145  49.6          1.0          audi\n",
              "\n",
              "[5 rows x 10 columns]"
            ]
          },
          "metadata": {},
          "execution_count": 178
        }
      ]
    },
    {
      "cell_type": "code",
      "metadata": {
        "id": "Kmm5L4K735OA",
        "colab": {
          "base_uri": "https://localhost:8080/",
          "height": 173
        },
        "outputId": "0ed67e02-84ce-49e7-f804-296e72237981"
      },
      "source": [
        "# Look at the categorical variables\n",
        "raw_dataset[['model', 'year', 'transmission', 'fuel_type', 'manufacturer']].describe()"
      ],
      "execution_count": null,
      "outputs": [
        {
          "output_type": "execute_result",
          "data": {
            "text/html": [
              "<div>\n",
              "<style scoped>\n",
              "    .dataframe tbody tr th:only-of-type {\n",
              "        vertical-align: middle;\n",
              "    }\n",
              "\n",
              "    .dataframe tbody tr th {\n",
              "        vertical-align: top;\n",
              "    }\n",
              "\n",
              "    .dataframe thead th {\n",
              "        text-align: right;\n",
              "    }\n",
              "</style>\n",
              "<table border=\"1\" class=\"dataframe\">\n",
              "  <thead>\n",
              "    <tr style=\"text-align: right;\">\n",
              "      <th></th>\n",
              "      <th>model</th>\n",
              "      <th>year</th>\n",
              "      <th>transmission</th>\n",
              "      <th>fuel_type</th>\n",
              "      <th>manufacture</th>\n",
              "    </tr>\n",
              "  </thead>\n",
              "  <tbody>\n",
              "    <tr>\n",
              "      <th>count</th>\n",
              "      <td>99187</td>\n",
              "      <td>99187</td>\n",
              "      <td>99187</td>\n",
              "      <td>99187</td>\n",
              "      <td>99187</td>\n",
              "    </tr>\n",
              "    <tr>\n",
              "      <th>unique</th>\n",
              "      <td>195</td>\n",
              "      <td>27</td>\n",
              "      <td>4</td>\n",
              "      <td>5</td>\n",
              "      <td>9</td>\n",
              "    </tr>\n",
              "    <tr>\n",
              "      <th>top</th>\n",
              "      <td>Fiesta</td>\n",
              "      <td>2019</td>\n",
              "      <td>Manual</td>\n",
              "      <td>Petrol</td>\n",
              "      <td>ford</td>\n",
              "    </tr>\n",
              "    <tr>\n",
              "      <th>freq</th>\n",
              "      <td>6557</td>\n",
              "      <td>26771</td>\n",
              "      <td>56445</td>\n",
              "      <td>54928</td>\n",
              "      <td>17965</td>\n",
              "    </tr>\n",
              "  </tbody>\n",
              "</table>\n",
              "</div>"
            ],
            "text/plain": [
              "          model   year transmission fuel_type manufacture\n",
              "count     99187  99187        99187     99187       99187\n",
              "unique      195     27            4         5           9\n",
              "top      Fiesta   2019       Manual    Petrol        ford\n",
              "freq       6557  26771        56445     54928       17965"
            ]
          },
          "metadata": {},
          "execution_count": 75
        }
      ]
    },
    {
      "cell_type": "markdown",
      "metadata": {
        "id": "vdLEH1MwgTaD"
      },
      "source": [
        "Let's look at the price column - the predicted variable"
      ]
    },
    {
      "cell_type": "code",
      "metadata": {
        "colab": {
          "base_uri": "https://localhost:8080/",
          "height": 361
        },
        "id": "Wnzfm-f1iKyI",
        "outputId": "0b94c56e-2002-4cf9-a4a7-11516edee671"
      },
      "source": [
        "sns.histplot(raw_dataset.price);"
      ],
      "execution_count": null,
      "outputs": [
        {
          "output_type": "display_data",
          "data": {
            "image/png": "[encoded data removed]",
            "text/plain": [
              "<Figure size 576x396 with 1 Axes>"
            ]
          },
          "metadata": {}
        }
      ]
    },
    {
      "cell_type": "code",
      "metadata": {
        "colab": {
          "base_uri": "https://localhost:8080/",
          "height": 361
        },
        "id": "o0vMtHAHiRxm",
        "outputId": "1258d051-c9ff-4622-da5a-40cdc5993537"
      },
      "source": [
        "# Histogram by transmission\n",
        "sns.histplot(raw_dataset, x='price', hue='transmission');"
      ],
      "execution_count": null,
      "outputs": [
        {
          "output_type": "display_data",
          "data": {
            "image/png": "[encoded data removed]",
            "text/plain": [
              "<Figure size 576x396 with 1 Axes>"
            ]
          },
          "metadata": {}
        }
      ]
    },
    {
      "cell_type": "code",
      "metadata": {
        "colab": {
          "base_uri": "https://localhost:8080/",
          "height": 351
        },
        "id": "htbR3Q41j4bP",
        "outputId": "b0df5d4c-e841-4b23-e074-f42b4e770e36"
      },
      "source": [
        "# Heatmap of the numerical variables, including price\n",
        "sns.heatmap(raw_dataset[['milage', 'tax', 'mpg', 'engine_size', 'price']].corr(), cmap='coolwarm', vmin=-1, vmax=1);"
      ],
      "execution_count": null,
      "outputs": [
        {
          "output_type": "display_data",
          "data": {
            "image/png": "[encoded data removed]",
            "text/plain": [
              "<Figure size 576x396 with 2 Axes>"
            ]
          },
          "metadata": {}
        }
      ]
    },
    {
      "cell_type": "markdown",
      "metadata": {
        "id": "6Qye6L1tm145"
      },
      "source": [
        "### Data Preprocessing"
      ]
    },
    {
      "cell_type": "markdown",
      "metadata": {
        "id": "JpnDrI0mqAqx"
      },
      "source": [
        "We need to encode the categorical variables.  \n",
        "For `transmission`, `fuel_type`, and `manufacturer` we'll use One-Hot encoding.  \n",
        "For `model` we'll use Ordinal encoding."
      ]
    },
    {
      "cell_type": "code",
      "metadata": {
        "id": "mwBcbylAm7c2"
      },
      "source": [
        "from sklearn.preprocessing import OneHotEncoder, OrdinalEncoder\n",
        "from sklearn.model_selection import train_test_split\n",
        "from sklearn.linear_model import LinearRegression\n",
        "from sklearn.ensemble import GradientBoostingRegressor"
      ],
      "execution_count": null,
      "outputs": []
    },
    {
      "cell_type": "code",
      "metadata": {
        "id": "-_bz0uafnZ9t"
      },
      "source": [
        "transmission = pd.get_dummies(raw_dataset.transmission)\n",
        "fuel_type = pd.get_dummies(raw_dataset.fuel_type)\n",
        "manufacturer = pd.get_dummies(raw_dataset.manufacturer)\n",
        "model = pd.Series(OrdinalEncoder().fit_transform(raw_dataset[['model']]).flatten()).rename('model')\n",
        "\n",
        "encoded_data = pd.concat([\n",
        "  raw_dataset[['year', 'milage', 'mpg', 'engine_size', 'price']], \n",
        "  transmission.iloc[:, :-1], \n",
        "  fuel_type.iloc[:, :-1], \n",
        "  manufacturer.iloc[:, :-1], \n",
        "  model], axis=1)"
      ],
      "execution_count": null,
      "outputs": []
    },
    {
      "cell_type": "code",
      "metadata": {
        "colab": {
          "base_uri": "https://localhost:8080/",
          "height": 204
        },
        "id": "DxUoqHDroYiJ",
        "outputId": "22535358-55d2-4ad6-9768-6e2d68cfbebf"
      },
      "source": [
        "encoded_data.head()"
      ],
      "execution_count": null,
      "outputs": [
        {
          "output_type": "execute_result",
          "data": {
            "text/html": [
              "<div>\n",
              "<style scoped>\n",
              "    .dataframe tbody tr th:only-of-type {\n",
              "        vertical-align: middle;\n",
              "    }\n",
              "\n",
              "    .dataframe tbody tr th {\n",
              "        vertical-align: top;\n",
              "    }\n",
              "\n",
              "    .dataframe thead th {\n",
              "        text-align: right;\n",
              "    }\n",
              "</style>\n",
              "<table border=\"1\" class=\"dataframe\">\n",
              "  <thead>\n",
              "    <tr style=\"text-align: right;\">\n",
              "      <th></th>\n",
              "      <th>year</th>\n",
              "      <th>milage</th>\n",
              "      <th>mpg</th>\n",
              "      <th>engine_size</th>\n",
              "      <th>price</th>\n",
              "      <th>Automatic</th>\n",
              "      <th>Manual</th>\n",
              "      <th>Other</th>\n",
              "      <th>Diesel</th>\n",
              "      <th>Electric</th>\n",
              "      <th>Hybrid</th>\n",
              "      <th>Other</th>\n",
              "      <th>audi</th>\n",
              "      <th>bmw</th>\n",
              "      <th>ford</th>\n",
              "      <th>hyundi</th>\n",
              "      <th>merc</th>\n",
              "      <th>skoda</th>\n",
              "      <th>toyota</th>\n",
              "      <th>vauxhall</th>\n",
              "      <th>model</th>\n",
              "    </tr>\n",
              "  </thead>\n",
              "  <tbody>\n",
              "    <tr>\n",
              "      <th>0</th>\n",
              "      <td>2017</td>\n",
              "      <td>15735</td>\n",
              "      <td>55.4</td>\n",
              "      <td>1.4</td>\n",
              "      <td>12500</td>\n",
              "      <td>0</td>\n",
              "      <td>1</td>\n",
              "      <td>0</td>\n",
              "      <td>0</td>\n",
              "      <td>0</td>\n",
              "      <td>0</td>\n",
              "      <td>0</td>\n",
              "      <td>1</td>\n",
              "      <td>0</td>\n",
              "      <td>0</td>\n",
              "      <td>0</td>\n",
              "      <td>0</td>\n",
              "      <td>0</td>\n",
              "      <td>0</td>\n",
              "      <td>0</td>\n",
              "      <td>9.0</td>\n",
              "    </tr>\n",
              "    <tr>\n",
              "      <th>1</th>\n",
              "      <td>2016</td>\n",
              "      <td>36203</td>\n",
              "      <td>64.2</td>\n",
              "      <td>2.0</td>\n",
              "      <td>16500</td>\n",
              "      <td>1</td>\n",
              "      <td>0</td>\n",
              "      <td>0</td>\n",
              "      <td>1</td>\n",
              "      <td>0</td>\n",
              "      <td>0</td>\n",
              "      <td>0</td>\n",
              "      <td>1</td>\n",
              "      <td>0</td>\n",
              "      <td>0</td>\n",
              "      <td>0</td>\n",
              "      <td>0</td>\n",
              "      <td>0</td>\n",
              "      <td>0</td>\n",
              "      <td>0</td>\n",
              "      <td>14.0</td>\n",
              "    </tr>\n",
              "    <tr>\n",
              "      <th>2</th>\n",
              "      <td>2016</td>\n",
              "      <td>29946</td>\n",
              "      <td>55.4</td>\n",
              "      <td>1.4</td>\n",
              "      <td>11000</td>\n",
              "      <td>0</td>\n",
              "      <td>1</td>\n",
              "      <td>0</td>\n",
              "      <td>0</td>\n",
              "      <td>0</td>\n",
              "      <td>0</td>\n",
              "      <td>0</td>\n",
              "      <td>1</td>\n",
              "      <td>0</td>\n",
              "      <td>0</td>\n",
              "      <td>0</td>\n",
              "      <td>0</td>\n",
              "      <td>0</td>\n",
              "      <td>0</td>\n",
              "      <td>0</td>\n",
              "      <td>9.0</td>\n",
              "    </tr>\n",
              "    <tr>\n",
              "      <th>3</th>\n",
              "      <td>2017</td>\n",
              "      <td>25952</td>\n",
              "      <td>67.3</td>\n",
              "      <td>2.0</td>\n",
              "      <td>16800</td>\n",
              "      <td>1</td>\n",
              "      <td>0</td>\n",
              "      <td>0</td>\n",
              "      <td>1</td>\n",
              "      <td>0</td>\n",
              "      <td>0</td>\n",
              "      <td>0</td>\n",
              "      <td>1</td>\n",
              "      <td>0</td>\n",
              "      <td>0</td>\n",
              "      <td>0</td>\n",
              "      <td>0</td>\n",
              "      <td>0</td>\n",
              "      <td>0</td>\n",
              "      <td>0</td>\n",
              "      <td>12.0</td>\n",
              "    </tr>\n",
              "    <tr>\n",
              "      <th>4</th>\n",
              "      <td>2019</td>\n",
              "      <td>1998</td>\n",
              "      <td>49.6</td>\n",
              "      <td>1.0</td>\n",
              "      <td>17300</td>\n",
              "      <td>0</td>\n",
              "      <td>1</td>\n",
              "      <td>0</td>\n",
              "      <td>0</td>\n",
              "      <td>0</td>\n",
              "      <td>0</td>\n",
              "      <td>0</td>\n",
              "      <td>1</td>\n",
              "      <td>0</td>\n",
              "      <td>0</td>\n",
              "      <td>0</td>\n",
              "      <td>0</td>\n",
              "      <td>0</td>\n",
              "      <td>0</td>\n",
              "      <td>0</td>\n",
              "      <td>11.0</td>\n",
              "    </tr>\n",
              "  </tbody>\n",
              "</table>\n",
              "</div>"
            ],
            "text/plain": [
              "   year  milage   mpg  engine_size  price  ...  merc  skoda  toyota  vauxhall  model\n",
              "0  2017   15735  55.4          1.4  12500  ...     0      0       0         0    9.0\n",
              "1  2016   36203  64.2          2.0  16500  ...     0      0       0         0   14.0\n",
              "2  2016   29946  55.4          1.4  11000  ...     0      0       0         0    9.0\n",
              "3  2017   25952  67.3          2.0  16800  ...     0      0       0         0   12.0\n",
              "4  2019    1998  49.6          1.0  17300  ...     0      0       0         0   11.0\n",
              "\n",
              "[5 rows x 21 columns]"
            ]
          },
          "metadata": {},
          "execution_count": 130
        }
      ]
    },
    {
      "cell_type": "markdown",
      "metadata": {
        "id": "D_ehPkZ-4pOO"
      },
      "source": [
        "### Building the model"
      ]
    },
    {
      "cell_type": "code",
      "metadata": {
        "id": "iX-E-tUppVGl"
      },
      "source": [
        "X, y = encoded_data.drop(columns='price'), encoded_data[['price']]"
      ],
      "execution_count": null,
      "outputs": []
    },
    {
      "cell_type": "code",
      "metadata": {
        "id": "JVp-xmnmryHg"
      },
      "source": [
        "# split the data into train and test sets\n",
        "X_train, X_test, y_train, y_test = train_test_split(X, y, random_state=42) "
      ],
      "execution_count": null,
      "outputs": []
    },
    {
      "cell_type": "markdown",
      "metadata": {
        "id": "mEDzd_Zp46UK"
      },
      "source": [
        "First, we'll fit a simple Linear Regression model"
      ]
    },
    {
      "cell_type": "code",
      "metadata": {
        "id": "fEZnsHBVsGPg"
      },
      "source": [
        "# Fit the model\n",
        "model_1 = LinearRegression().fit(X_train, y_train)"
      ],
      "execution_count": null,
      "outputs": []
    },
    {
      "cell_type": "code",
      "metadata": {
        "colab": {
          "base_uri": "https://localhost:8080/"
        },
        "id": "z2CSLxTyskjm",
        "outputId": "6a5d6105-0641-447a-b001-f79b1c9d69c4"
      },
      "source": [
        "model_1.score(X_test, y_test)"
      ],
      "execution_count": null,
      "outputs": [
        {
          "output_type": "execute_result",
          "data": {
            "text/plain": [
              "0.7648936383398651"
            ]
          },
          "metadata": {},
          "execution_count": 148
        }
      ]
    },
    {
      "cell_type": "code",
      "metadata": {
        "id": "aY3ERQfE6QFl"
      },
      "source": [
        "# Get test predictions\n",
        "model_1_pred = model_1.predict(X_test)"
      ],
      "execution_count": null,
      "outputs": []
    },
    {
      "cell_type": "code",
      "metadata": {
        "colab": {
          "base_uri": "https://localhost:8080/",
          "height": 364
        },
        "id": "eRxwADh_6V-E",
        "outputId": "0499f720-d7b0-4574-c2b1-f43f7a701bac"
      },
      "source": [
        "# Plot the predictions vs real values\n",
        "plt.scatter(y_test, model_1_pred.flatten())"
      ],
      "execution_count": null,
      "outputs": [
        {
          "output_type": "execute_result",
          "data": {
            "text/plain": [
              "<matplotlib.collections.PathCollection at 0x7f373aa23dd0>"
            ]
          },
          "metadata": {},
          "execution_count": 191
        },
        {
          "output_type": "display_data",
          "data": {
            "image/png": "[encoded data removed]",
            "text/plain": [
              "<Figure size 576x396 with 1 Axes>"
            ]
          },
          "metadata": {}
        }
      ]
    },
    {
      "cell_type": "markdown",
      "metadata": {
        "id": "GyMC0SYe5O7v"
      },
      "source": [
        "We've seen that the distribution of the price column is skewed - has a long right tail.  \n",
        "Since Linear Regression prefers normally distributed dependant variable, we'll apply a log transformation on the price."
      ]
    },
    {
      "cell_type": "code",
      "metadata": {
        "id": "eymAhIg4sv9c"
      },
      "source": [
        "# Apply the transformation\n",
        "y_log = y.apply(np.log)"
      ],
      "execution_count": null,
      "outputs": []
    },
    {
      "cell_type": "code",
      "metadata": {
        "id": "kDFnZ1h1tS7Y"
      },
      "source": [
        "# re split the data into train and test sets\n",
        "X_train, X_test, y_train_log, y_test_log = train_test_split(X, y_log, random_state=42) "
      ],
      "execution_count": null,
      "outputs": []
    },
    {
      "cell_type": "code",
      "metadata": {
        "id": "xoHfqki-tYLo"
      },
      "source": [
        "# Fit the model\n",
        "model_2 = LinearRegression().fit(X_train, y_train_log)"
      ],
      "execution_count": null,
      "outputs": []
    },
    {
      "cell_type": "code",
      "metadata": {
        "colab": {
          "base_uri": "https://localhost:8080/"
        },
        "id": "sP-pNR4UtZPg",
        "outputId": "ce04bfaa-b871-434f-d71a-6336fff5be1e"
      },
      "source": [
        "model_2.score(X_test, y_test_log)"
      ],
      "execution_count": null,
      "outputs": [
        {
          "output_type": "execute_result",
          "data": {
            "text/plain": [
              "0.8781242377907783"
            ]
          },
          "metadata": {},
          "execution_count": 155
        }
      ]
    },
    {
      "cell_type": "code",
      "metadata": {
        "id": "uwjjtmOctamT"
      },
      "source": [
        "# Get the predictions\n",
        "model_2_pred = model_2.predict(X_test)"
      ],
      "execution_count": null,
      "outputs": []
    },
    {
      "cell_type": "code",
      "metadata": {
        "colab": {
          "base_uri": "https://localhost:8080/",
          "height": 214
        },
        "id": "hIi2oXtTvXwf",
        "outputId": "3add2a5a-e200-4c1c-92d3-db2a71b0c94b"
      },
      "source": [
        "plt.scatter(y_test, np.exp(model_2_pred).flatten())\n",
        "plt.xlabel('test')\n",
        "plt.ylabel('pred')\n",
        "plt.show()"
      ],
      "execution_count": 1,
      "outputs": [
        {
          "output_type": "error",
          "ename": "NameError",
          "evalue": "ignored",
          "traceback": [
            "\u001b[0;31m---------------------------------------------------------------------------\u001b[0m",
            "\u001b[0;31mNameError\u001b[0m                                 Traceback (most recent call last)",
            "\u001b[0;32m<ipython-input-1-ef335c41763c>\u001b[0m in \u001b[0;36m<module>\u001b[0;34m()\u001b[0m\n\u001b[0;32m----> 1\u001b[0;31m \u001b[0mplt\u001b[0m\u001b[0;34m.\u001b[0m\u001b[0mscatter\u001b[0m\u001b[0;34m(\u001b[0m\u001b[0my_test\u001b[0m\u001b[0;34m,\u001b[0m \u001b[0mnp\u001b[0m\u001b[0;34m.\u001b[0m\u001b[0mexp\u001b[0m\u001b[0;34m(\u001b[0m\u001b[0mmodel_2_pred\u001b[0m\u001b[0;34m)\u001b[0m\u001b[0;34m.\u001b[0m\u001b[0mflatten\u001b[0m\u001b[0;34m(\u001b[0m\u001b[0;34m)\u001b[0m\u001b[0;34m)\u001b[0m\u001b[0;34m\u001b[0m\u001b[0;34m\u001b[0m\u001b[0m\n\u001b[0m\u001b[1;32m      2\u001b[0m \u001b[0mplt\u001b[0m\u001b[0;34m.\u001b[0m\u001b[0mxlabel\u001b[0m\u001b[0;34m(\u001b[0m\u001b[0;34m'test'\u001b[0m\u001b[0;34m)\u001b[0m\u001b[0;34m\u001b[0m\u001b[0;34m\u001b[0m\u001b[0m\n\u001b[1;32m      3\u001b[0m \u001b[0mplt\u001b[0m\u001b[0;34m.\u001b[0m\u001b[0mylabel\u001b[0m\u001b[0;34m(\u001b[0m\u001b[0;34m'pred'\u001b[0m\u001b[0;34m)\u001b[0m\u001b[0;34m\u001b[0m\u001b[0;34m\u001b[0m\u001b[0m\n\u001b[1;32m      4\u001b[0m \u001b[0mplt\u001b[0m\u001b[0;34m.\u001b[0m\u001b[0mshow\u001b[0m\u001b[0;34m(\u001b[0m\u001b[0;34m)\u001b[0m\u001b[0;34m\u001b[0m\u001b[0;34m\u001b[0m\u001b[0m\n",
            "\u001b[0;31mNameError\u001b[0m: name 'plt' is not defined"
          ]
        }
      ]
    },
    {
      "cell_type": "markdown",
      "metadata": {
        "id": "QeSxhQ3b7InW"
      },
      "source": [
        "Now we'll try to use XGBoost regression."
      ]
    },
    {
      "cell_type": "code",
      "metadata": {
        "colab": {
          "base_uri": "https://localhost:8080/"
        },
        "id": "HqVHXWj1vZGQ",
        "outputId": "a3ae99e0-1146-47ab-bff0-bb0ff3d437d4"
      },
      "source": [
        "# Fit the model - using only the default hyper-parameters\n",
        "model_3 = GradientBoostingRegressor(random_state=42).fit(X_train, y_train_log)"
      ],
      "execution_count": null,
      "outputs": [
        {
          "output_type": "stream",
          "name": "stderr",
          "text": [
            "/usr/local/lib/python3.7/dist-packages/sklearn/ensemble/_gb.py:1454: DataConversionWarning: A column-vector y was passed when a 1d array was expected. Please change the shape of y to (n_samples, ), for example using ravel().\n",
            "  y = column_or_1d(y, warn=True)\n"
          ]
        }
      ]
    },
    {
      "cell_type": "code",
      "metadata": {
        "colab": {
          "base_uri": "https://localhost:8080/"
        },
        "id": "h-pAJvYpwS5U",
        "outputId": "c752e4b7-f646-41f3-bb49-b43c4bb14140"
      },
      "source": [
        "model_3.score(X_test, y_test_log)"
      ],
      "execution_count": null,
      "outputs": [
        {
          "output_type": "execute_result",
          "data": {
            "text/plain": [
              "0.9167782402682949"
            ]
          },
          "metadata": {},
          "execution_count": 165
        }
      ]
    },
    {
      "cell_type": "code",
      "metadata": {
        "id": "Y40tgkbzylv0"
      },
      "source": [
        "# Get the predictions\n",
        "model_3_pred = model_3.predict(X_test)"
      ],
      "execution_count": null,
      "outputs": []
    },
    {
      "cell_type": "code",
      "metadata": {
        "colab": {
          "base_uri": "https://localhost:8080/",
          "height": 364
        },
        "id": "i5Bx2MAMwcp2",
        "outputId": "1768e43c-d3f2-40ab-dee4-0a273065eb88"
      },
      "source": [
        "plt.scatter(y_test, np.exp(model_3_pred).flatten())\n",
        "plt.xlabel('test')\n",
        "plt.ylabel('pred')\n",
        "plt.show()"
      ],
      "execution_count": null,
      "outputs": [
        {
          "output_type": "execute_result",
          "data": {
            "text/plain": [
              "<matplotlib.collections.PathCollection at 0x7f374171f3d0>"
            ]
          },
          "metadata": {},
          "execution_count": 168
        },
        {
          "output_type": "display_data",
          "data": {
            "image/png": "[encoded data removed]",
            "text/plain": [
              "<Figure size 576x396 with 1 Axes>"
            ]
          },
          "metadata": {}
        }
      ]
    },
    {
      "cell_type": "markdown",
      "metadata": {
        "id": "o3UyDWAfvHzz"
      },
      "source": [
        "## Classification task\n",
        "\n",
        "For this task we selected the *Heart Failure Prediction Dataset* from Kaggle.  \n",
        "This is a binary classification problem."
      ]
    },
    {
      "cell_type": "code",
      "metadata": {
        "id": "osCYb7nmvHzz"
      },
      "source": [
        "# Import general use packages\n",
        "import pandas as pd\n",
        "import numpy as np\n",
        "import matplotlib.pyplot as plt\n",
        "plt.style.use('seaborn')\n",
        "from zipfile import ZipFile\n",
        "import requests\n",
        "import seaborn as sns\n",
        "import kaggle\n",
        "kaggle.api.authenticate()"
      ],
      "execution_count": null,
      "outputs": []
    },
    {
      "cell_type": "code",
      "metadata": {
        "colab": {
          "base_uri": "https://localhost:8080/"
        },
        "id": "TqjBAURHvHzz",
        "outputId": "c05af2d4-ce63-45ce-acc1-2805ae6cb436"
      },
      "source": [
        "# Download the dataset\n",
        "! kaggle datasets download -d fedesoriano/heart-failure-prediction -p heart-failure"
      ],
      "execution_count": null,
      "outputs": [
        {
          "output_type": "stream",
          "name": "stdout",
          "text": [
            "Downloading heart-failure-prediction.zip to heart-failure\n",
            "\r  0% 0.00/8.56k [00:00<?, ?B/s]\n",
            "\r100% 8.56k/8.56k [00:00<00:00, 3.67MB/s]\n"
          ]
        }
      ]
    },
    {
      "cell_type": "code",
      "metadata": {
        "id": "dHgpvDZ9KX06"
      },
      "source": [
        "from google.colab import files"
      ],
      "execution_count": null,
      "outputs": []
    },
    {
      "cell_type": "code",
      "metadata": {
        "id": "1XIdQCtsLgHp"
      },
      "source": [
        "raw_dataset = pd.read_csv('/content/heart-failure/heart-failure-prediction.zip')"
      ],
      "execution_count": null,
      "outputs": []
    },
    {
      "cell_type": "code",
      "metadata": {
        "colab": {
          "base_uri": "https://localhost:8080/"
        },
        "id": "8S5W6JBwMH4L",
        "outputId": "55af0c56-bc76-40e5-b1fe-8db9526605b4"
      },
      "source": [
        "raw_dataset.info()"
      ],
      "execution_count": null,
      "outputs": [
        {
          "output_type": "stream",
          "name": "stdout",
          "text": [
            "<class 'pandas.core.frame.DataFrame'>\n",
            "RangeIndex: 918 entries, 0 to 917\n",
            "Data columns (total 12 columns):\n",
            " #   Column          Non-Null Count  Dtype  \n",
            "---  ------          --------------  -----  \n",
            " 0   Age             918 non-null    int64  \n",
            " 1   Sex             918 non-null    object \n",
            " 2   ChestPainType   918 non-null    object \n",
            " 3   RestingBP       918 non-null    int64  \n",
            " 4   Cholesterol     918 non-null    int64  \n",
            " 5   FastingBS       918 non-null    int64  \n",
            " 6   RestingECG      918 non-null    object \n",
            " 7   MaxHR           918 non-null    int64  \n",
            " 8   ExerciseAngina  918 non-null    object \n",
            " 9   Oldpeak         918 non-null    float64\n",
            " 10  ST_Slope        918 non-null    object \n",
            " 11  HeartDisease    918 non-null    int64  \n",
            "dtypes: float64(1), int64(6), object(5)\n",
            "memory usage: 86.2+ KB\n"
          ]
        }
      ]
    },
    {
      "cell_type": "code",
      "metadata": {
        "colab": {
          "base_uri": "https://localhost:8080/",
          "height": 204
        },
        "id": "VVP3j9rnL65h",
        "outputId": "418ab4d1-7569-444d-d3d3-b73508c1a035"
      },
      "source": [
        "raw_dataset.head()"
      ],
      "execution_count": null,
      "outputs": [
        {
          "output_type": "execute_result",
          "data": {
            "text/html": [
              "<div>\n",
              "<style scoped>\n",
              "    .dataframe tbody tr th:only-of-type {\n",
              "        vertical-align: middle;\n",
              "    }\n",
              "\n",
              "    .dataframe tbody tr th {\n",
              "        vertical-align: top;\n",
              "    }\n",
              "\n",
              "    .dataframe thead th {\n",
              "        text-align: right;\n",
              "    }\n",
              "</style>\n",
              "<table border=\"1\" class=\"dataframe\">\n",
              "  <thead>\n",
              "    <tr style=\"text-align: right;\">\n",
              "      <th></th>\n",
              "      <th>Age</th>\n",
              "      <th>Sex</th>\n",
              "      <th>ChestPainType</th>\n",
              "      <th>RestingBP</th>\n",
              "      <th>Cholesterol</th>\n",
              "      <th>FastingBS</th>\n",
              "      <th>RestingECG</th>\n",
              "      <th>MaxHR</th>\n",
              "      <th>ExerciseAngina</th>\n",
              "      <th>Oldpeak</th>\n",
              "      <th>ST_Slope</th>\n",
              "      <th>HeartDisease</th>\n",
              "    </tr>\n",
              "  </thead>\n",
              "  <tbody>\n",
              "    <tr>\n",
              "      <th>0</th>\n",
              "      <td>40</td>\n",
              "      <td>M</td>\n",
              "      <td>ATA</td>\n",
              "      <td>140</td>\n",
              "      <td>289</td>\n",
              "      <td>0</td>\n",
              "      <td>Normal</td>\n",
              "      <td>172</td>\n",
              "      <td>N</td>\n",
              "      <td>0.0</td>\n",
              "      <td>Up</td>\n",
              "      <td>0</td>\n",
              "    </tr>\n",
              "    <tr>\n",
              "      <th>1</th>\n",
              "      <td>49</td>\n",
              "      <td>F</td>\n",
              "      <td>NAP</td>\n",
              "      <td>160</td>\n",
              "      <td>180</td>\n",
              "      <td>0</td>\n",
              "      <td>Normal</td>\n",
              "      <td>156</td>\n",
              "      <td>N</td>\n",
              "      <td>1.0</td>\n",
              "      <td>Flat</td>\n",
              "      <td>1</td>\n",
              "    </tr>\n",
              "    <tr>\n",
              "      <th>2</th>\n",
              "      <td>37</td>\n",
              "      <td>M</td>\n",
              "      <td>ATA</td>\n",
              "      <td>130</td>\n",
              "      <td>283</td>\n",
              "      <td>0</td>\n",
              "      <td>ST</td>\n",
              "      <td>98</td>\n",
              "      <td>N</td>\n",
              "      <td>0.0</td>\n",
              "      <td>Up</td>\n",
              "      <td>0</td>\n",
              "    </tr>\n",
              "    <tr>\n",
              "      <th>3</th>\n",
              "      <td>48</td>\n",
              "      <td>F</td>\n",
              "      <td>ASY</td>\n",
              "      <td>138</td>\n",
              "      <td>214</td>\n",
              "      <td>0</td>\n",
              "      <td>Normal</td>\n",
              "      <td>108</td>\n",
              "      <td>Y</td>\n",
              "      <td>1.5</td>\n",
              "      <td>Flat</td>\n",
              "      <td>1</td>\n",
              "    </tr>\n",
              "    <tr>\n",
              "      <th>4</th>\n",
              "      <td>54</td>\n",
              "      <td>M</td>\n",
              "      <td>NAP</td>\n",
              "      <td>150</td>\n",
              "      <td>195</td>\n",
              "      <td>0</td>\n",
              "      <td>Normal</td>\n",
              "      <td>122</td>\n",
              "      <td>N</td>\n",
              "      <td>0.0</td>\n",
              "      <td>Up</td>\n",
              "      <td>0</td>\n",
              "    </tr>\n",
              "  </tbody>\n",
              "</table>\n",
              "</div>"
            ],
            "text/plain": [
              "   Age Sex ChestPainType  ...  Oldpeak  ST_Slope  HeartDisease\n",
              "0   40   M           ATA  ...      0.0        Up             0\n",
              "1   49   F           NAP  ...      1.0      Flat             1\n",
              "2   37   M           ATA  ...      0.0        Up             0\n",
              "3   48   F           ASY  ...      1.5      Flat             1\n",
              "4   54   M           NAP  ...      0.0        Up             0\n",
              "\n",
              "[5 rows x 12 columns]"
            ]
          },
          "metadata": {},
          "execution_count": 14
        }
      ]
    },
    {
      "cell_type": "code",
      "metadata": {
        "colab": {
          "base_uri": "https://localhost:8080/",
          "height": 173
        },
        "id": "BuKU4DSmL8Sh",
        "outputId": "509f881e-50df-473d-da85-8e0f3cb79196"
      },
      "source": [
        "raw_dataset[['ChestPainType', 'RestingECG', 'ST_Slope']].describe()"
      ],
      "execution_count": null,
      "outputs": [
        {
          "output_type": "execute_result",
          "data": {
            "text/html": [
              "<div>\n",
              "<style scoped>\n",
              "    .dataframe tbody tr th:only-of-type {\n",
              "        vertical-align: middle;\n",
              "    }\n",
              "\n",
              "    .dataframe tbody tr th {\n",
              "        vertical-align: top;\n",
              "    }\n",
              "\n",
              "    .dataframe thead th {\n",
              "        text-align: right;\n",
              "    }\n",
              "</style>\n",
              "<table border=\"1\" class=\"dataframe\">\n",
              "  <thead>\n",
              "    <tr style=\"text-align: right;\">\n",
              "      <th></th>\n",
              "      <th>ChestPainType</th>\n",
              "      <th>RestingECG</th>\n",
              "      <th>ST_Slope</th>\n",
              "    </tr>\n",
              "  </thead>\n",
              "  <tbody>\n",
              "    <tr>\n",
              "      <th>count</th>\n",
              "      <td>918</td>\n",
              "      <td>918</td>\n",
              "      <td>918</td>\n",
              "    </tr>\n",
              "    <tr>\n",
              "      <th>unique</th>\n",
              "      <td>4</td>\n",
              "      <td>3</td>\n",
              "      <td>3</td>\n",
              "    </tr>\n",
              "    <tr>\n",
              "      <th>top</th>\n",
              "      <td>ASY</td>\n",
              "      <td>Normal</td>\n",
              "      <td>Flat</td>\n",
              "    </tr>\n",
              "    <tr>\n",
              "      <th>freq</th>\n",
              "      <td>496</td>\n",
              "      <td>552</td>\n",
              "      <td>460</td>\n",
              "    </tr>\n",
              "  </tbody>\n",
              "</table>\n",
              "</div>"
            ],
            "text/plain": [
              "       ChestPainType RestingECG ST_Slope\n",
              "count            918        918      918\n",
              "unique             4          3        3\n",
              "top              ASY     Normal     Flat\n",
              "freq             496        552      460"
            ]
          },
          "metadata": {},
          "execution_count": 16
        }
      ]
    },
    {
      "cell_type": "code",
      "metadata": {
        "colab": {
          "base_uri": "https://localhost:8080/",
          "height": 351
        },
        "id": "3WifqKirMT70",
        "outputId": "287e641a-30ad-46c0-b0c2-68525b457ee1"
      },
      "source": [
        "# Heatmap of the numerical variables, including price\n",
        "sns.heatmap(raw_dataset[['Age', 'Cholesterol', 'MaxHR', 'Oldpeak', 'HeartDisease']].corr(), vmin=-1, vmax=1, cmap='coolwarm');"
      ],
      "execution_count": null,
      "outputs": [
        {
          "output_type": "display_data",
          "data": {
            "image/png": "[encoded data removed]",
            "text/plain": [
              "<Figure size 576x396 with 2 Axes>"
            ]
          },
          "metadata": {}
        }
      ]
    },
    {
      "cell_type": "markdown",
      "metadata": {
        "id": "aEbeIBSuOz6k"
      },
      "source": [
        "### Data Preprocessing"
      ]
    },
    {
      "cell_type": "code",
      "metadata": {
        "id": "GuvcJl-PO2gl"
      },
      "source": [
        "ChestPainType = pd.get_dummies(raw_dataset.ChestPainType)\n",
        "RestingECG = pd.get_dummies(raw_dataset.RestingECG)\n",
        "ST_Slope = pd.get_dummies(raw_dataset.ST_Slope)\n",
        "sex = (raw_dataset.Sex == 'F').astype(int)\n",
        "ExerciseAngina = (raw_dataset.ExerciseAngina == 'Y').astype(int)\n",
        "\n",
        "encoded_data = pd.concat([\n",
        "  raw_dataset[['Age', 'Cholesterol', 'MaxHR', 'Oldpeak', 'HeartDisease', 'FastingBS']], \n",
        "  ChestPainType.iloc[:, :-1], \n",
        "  RestingECG.iloc[:, :-1], \n",
        "  ST_Slope.iloc[:, :-1], \n",
        "  sex,\n",
        "  ExerciseAngina], axis=1)"
      ],
      "execution_count": null,
      "outputs": []
    },
    {
      "cell_type": "code",
      "metadata": {
        "colab": {
          "base_uri": "https://localhost:8080/",
          "height": 204
        },
        "id": "Tojylxq_PwzE",
        "outputId": "63e64f77-1265-483c-ab02-5f554cb49a36"
      },
      "source": [
        "encoded_data.head()"
      ],
      "execution_count": null,
      "outputs": [
        {
          "output_type": "execute_result",
          "data": {
            "text/html": [
              "<div>\n",
              "<style scoped>\n",
              "    .dataframe tbody tr th:only-of-type {\n",
              "        vertical-align: middle;\n",
              "    }\n",
              "\n",
              "    .dataframe tbody tr th {\n",
              "        vertical-align: top;\n",
              "    }\n",
              "\n",
              "    .dataframe thead th {\n",
              "        text-align: right;\n",
              "    }\n",
              "</style>\n",
              "<table border=\"1\" class=\"dataframe\">\n",
              "  <thead>\n",
              "    <tr style=\"text-align: right;\">\n",
              "      <th></th>\n",
              "      <th>Age</th>\n",
              "      <th>Cholesterol</th>\n",
              "      <th>MaxHR</th>\n",
              "      <th>Oldpeak</th>\n",
              "      <th>HeartDisease</th>\n",
              "      <th>FastingBS</th>\n",
              "      <th>ASY</th>\n",
              "      <th>ATA</th>\n",
              "      <th>NAP</th>\n",
              "      <th>LVH</th>\n",
              "      <th>Normal</th>\n",
              "      <th>Down</th>\n",
              "      <th>Flat</th>\n",
              "      <th>Sex</th>\n",
              "      <th>ExerciseAngina</th>\n",
              "    </tr>\n",
              "  </thead>\n",
              "  <tbody>\n",
              "    <tr>\n",
              "      <th>0</th>\n",
              "      <td>40</td>\n",
              "      <td>289</td>\n",
              "      <td>172</td>\n",
              "      <td>0.0</td>\n",
              "      <td>0</td>\n",
              "      <td>0</td>\n",
              "      <td>0</td>\n",
              "      <td>1</td>\n",
              "      <td>0</td>\n",
              "      <td>0</td>\n",
              "      <td>1</td>\n",
              "      <td>0</td>\n",
              "      <td>0</td>\n",
              "      <td>0</td>\n",
              "      <td>0</td>\n",
              "    </tr>\n",
              "    <tr>\n",
              "      <th>1</th>\n",
              "      <td>49</td>\n",
              "      <td>180</td>\n",
              "      <td>156</td>\n",
              "      <td>1.0</td>\n",
              "      <td>1</td>\n",
              "      <td>0</td>\n",
              "      <td>0</td>\n",
              "      <td>0</td>\n",
              "      <td>1</td>\n",
              "      <td>0</td>\n",
              "      <td>1</td>\n",
              "      <td>0</td>\n",
              "      <td>1</td>\n",
              "      <td>1</td>\n",
              "      <td>0</td>\n",
              "    </tr>\n",
              "    <tr>\n",
              "      <th>2</th>\n",
              "      <td>37</td>\n",
              "      <td>283</td>\n",
              "      <td>98</td>\n",
              "      <td>0.0</td>\n",
              "      <td>0</td>\n",
              "      <td>0</td>\n",
              "      <td>0</td>\n",
              "      <td>1</td>\n",
              "      <td>0</td>\n",
              "      <td>0</td>\n",
              "      <td>0</td>\n",
              "      <td>0</td>\n",
              "      <td>0</td>\n",
              "      <td>0</td>\n",
              "      <td>0</td>\n",
              "    </tr>\n",
              "    <tr>\n",
              "      <th>3</th>\n",
              "      <td>48</td>\n",
              "      <td>214</td>\n",
              "      <td>108</td>\n",
              "      <td>1.5</td>\n",
              "      <td>1</td>\n",
              "      <td>0</td>\n",
              "      <td>1</td>\n",
              "      <td>0</td>\n",
              "      <td>0</td>\n",
              "      <td>0</td>\n",
              "      <td>1</td>\n",
              "      <td>0</td>\n",
              "      <td>1</td>\n",
              "      <td>1</td>\n",
              "      <td>1</td>\n",
              "    </tr>\n",
              "    <tr>\n",
              "      <th>4</th>\n",
              "      <td>54</td>\n",
              "      <td>195</td>\n",
              "      <td>122</td>\n",
              "      <td>0.0</td>\n",
              "      <td>0</td>\n",
              "      <td>0</td>\n",
              "      <td>0</td>\n",
              "      <td>0</td>\n",
              "      <td>1</td>\n",
              "      <td>0</td>\n",
              "      <td>1</td>\n",
              "      <td>0</td>\n",
              "      <td>0</td>\n",
              "      <td>0</td>\n",
              "      <td>0</td>\n",
              "    </tr>\n",
              "  </tbody>\n",
              "</table>\n",
              "</div>"
            ],
            "text/plain": [
              "   Age  Cholesterol  MaxHR  Oldpeak  ...  Down  Flat  Sex  ExerciseAngina\n",
              "0   40          289    172      0.0  ...     0     0    0               0\n",
              "1   49          180    156      1.0  ...     0     1    1               0\n",
              "2   37          283     98      0.0  ...     0     0    0               0\n",
              "3   48          214    108      1.5  ...     0     1    1               1\n",
              "4   54          195    122      0.0  ...     0     0    0               0\n",
              "\n",
              "[5 rows x 15 columns]"
            ]
          },
          "metadata": {},
          "execution_count": 46
        }
      ]
    },
    {
      "cell_type": "markdown",
      "metadata": {
        "id": "Gd_bRHLNNBZ8"
      },
      "source": [
        "### Fitting the KNN model"
      ]
    },
    {
      "cell_type": "code",
      "metadata": {
        "id": "7MNZ3u-EQNmI"
      },
      "source": [
        "from sklearn.model_selection import train_test_split\n",
        "from sklearn.neighbors import KNeighborsClassifier"
      ],
      "execution_count": null,
      "outputs": []
    },
    {
      "cell_type": "code",
      "metadata": {
        "id": "xOpS4iRaOufA"
      },
      "source": [
        "X, y = encoded_data.drop(columns='HeartDisease'), encoded_data[['HeartDisease']].squeeze()"
      ],
      "execution_count": null,
      "outputs": []
    },
    {
      "cell_type": "code",
      "metadata": {
        "id": "hANRW5O6QHAU"
      },
      "source": [
        "# split the data into train and test sets\n",
        "X_train, X_test, y_train, y_test = train_test_split(X, y, random_state=42) "
      ],
      "execution_count": null,
      "outputs": []
    },
    {
      "cell_type": "code",
      "metadata": {
        "id": "mZm5kvnlQKA1"
      },
      "source": [
        "model_1 = KNeighborsClassifier().fit(X_train, y_train)"
      ],
      "execution_count": null,
      "outputs": []
    },
    {
      "cell_type": "code",
      "metadata": {
        "id": "1t5kgXISQnA0"
      },
      "source": [
        "model_1_pred = model_1.predict(X_test)"
      ],
      "execution_count": null,
      "outputs": []
    },
    {
      "cell_type": "code",
      "metadata": {
        "id": "AeU5WC6eQ3Kv"
      },
      "source": [
        "from sklearn.metrics import confusion_matrix, precision_score, recall_score, f1_score, roc_curve"
      ],
      "execution_count": null,
      "outputs": []
    },
    {
      "cell_type": "code",
      "metadata": {
        "colab": {
          "base_uri": "https://localhost:8080/"
        },
        "id": "VEbDMXDFR0sk",
        "outputId": "c851c1ff-2ca5-4931-c498-e5383ba33fd1"
      },
      "source": [
        "model_1.score(X_train, y_train)"
      ],
      "execution_count": null,
      "outputs": [
        {
          "output_type": "execute_result",
          "data": {
            "text/plain": [
              "0.7906976744186046"
            ]
          },
          "metadata": {},
          "execution_count": 71
        }
      ]
    },
    {
      "cell_type": "code",
      "metadata": {
        "colab": {
          "base_uri": "https://localhost:8080/",
          "height": 347
        },
        "id": "mytd-aEXR5Fg",
        "outputId": "a9540d62-4379-4077-eed0-08dbce020983"
      },
      "source": [
        "# Plot confusion matrix\n",
        "sns.heatmap(confusion_matrix(y_test, model_1_pred), cmap='Blues');"
      ],
      "execution_count": null,
      "outputs": [
        {
          "output_type": "display_data",
          "data": {
            "image/png": "[encoded data removed]",
            "text/plain": [
              "<Figure size 576x396 with 2 Axes>"
            ]
          },
          "metadata": {}
        }
      ]
    },
    {
      "cell_type": "markdown",
      "metadata": {
        "id": "Hjc6PoNK9DST"
      },
      "source": [
        "Test different values of neighbors"
      ]
    },
    {
      "cell_type": "code",
      "metadata": {
        "id": "BjVIeyoESGPH"
      },
      "source": [
        "k_values = [*range(3, 30, 2)] + [*range(30, 70, 5)]\n",
        "models = []\n",
        "\n",
        "for k in k_values:\n",
        "  models.append(KNeighborsClassifier(n_neighbors=k).fit(X_train, y_train))"
      ],
      "execution_count": null,
      "outputs": []
    },
    {
      "cell_type": "code",
      "metadata": {
        "id": "vAtoI9spSIuf"
      },
      "source": [
        "accuracy_scores = [model.score(X_test, y_test) for model in models]"
      ],
      "execution_count": null,
      "outputs": []
    },
    {
      "cell_type": "code",
      "metadata": {
        "colab": {
          "base_uri": "https://localhost:8080/",
          "height": 347
        },
        "id": "ebfqNOv1TOj3",
        "outputId": "1f123726-b40c-4ab9-baa1-52ba353315ef"
      },
      "source": [
        "plt.plot(k_values, accuracy_scores)\n",
        "plt.xlabel('K')\n",
        "plt.ylabel('accuracy')\n",
        "plt.show()"
      ],
      "execution_count": null,
      "outputs": [
        {
          "output_type": "display_data",
          "data": {
            "image/png": "[encoded data removed]",
            "text/plain": [
              "<Figure size 576x396 with 1 Axes>"
            ]
          },
          "metadata": {}
        }
      ]
    },
    {
      "cell_type": "markdown",
      "metadata": {
        "id": "6KpEuN7jUDT3"
      },
      "source": [
        "Looks like the default value of 5 is good enough"
      ]
    },
    {
      "cell_type": "code",
      "metadata": {
        "colab": {
          "base_uri": "https://localhost:8080/"
        },
        "id": "QpNVPZF2Ue5O",
        "outputId": "e7cbfbd1-2482-4e17-d908-ae24fc567250"
      },
      "source": [
        "f1_score(y_test, model_1_pred)"
      ],
      "execution_count": null,
      "outputs": [
        {
          "output_type": "execute_result",
          "data": {
            "text/plain": [
              "0.7410358565737052"
            ]
          },
          "metadata": {},
          "execution_count": 91
        }
      ]
    },
    {
      "cell_type": "markdown",
      "metadata": {
        "id": "-FOegiBhVeya"
      },
      "source": [
        "Let's test how the model improves when we scale the data"
      ]
    },
    {
      "cell_type": "code",
      "metadata": {
        "id": "87rCSdMdVnEf"
      },
      "source": [
        "from sklearn.preprocessing import MinMaxScaler"
      ],
      "execution_count": null,
      "outputs": []
    },
    {
      "cell_type": "code",
      "metadata": {
        "id": "56jY4fH6Vmj-"
      },
      "source": [
        "scaled_features = pd.DataFrame(MinMaxScaler().fit_transform(X[['Age', 'Cholesterol', 'MaxHR', 'Oldpeak']]), columns=['Age', 'Cholesterol', 'MaxHR', 'Oldpeak'])\n",
        "X_scaled = pd.concat([scaled_features, X.drop(columns=['Age', 'Cholesterol', 'MaxHR', 'Oldpeak'])], axis=1)"
      ],
      "execution_count": null,
      "outputs": []
    },
    {
      "cell_type": "code",
      "metadata": {
        "colab": {
          "base_uri": "https://localhost:8080/",
          "height": 204
        },
        "id": "_2f2RVBeWhk6",
        "outputId": "7c41f27d-ccfe-4523-8985-f707d9fa3970"
      },
      "source": [
        "X_scaled.head()"
      ],
      "execution_count": null,
      "outputs": [
        {
          "output_type": "execute_result",
          "data": {
            "text/html": [
              "<div>\n",
              "<style scoped>\n",
              "    .dataframe tbody tr th:only-of-type {\n",
              "        vertical-align: middle;\n",
              "    }\n",
              "\n",
              "    .dataframe tbody tr th {\n",
              "        vertical-align: top;\n",
              "    }\n",
              "\n",
              "    .dataframe thead th {\n",
              "        text-align: right;\n",
              "    }\n",
              "</style>\n",
              "<table border=\"1\" class=\"dataframe\">\n",
              "  <thead>\n",
              "    <tr style=\"text-align: right;\">\n",
              "      <th></th>\n",
              "      <th>Age</th>\n",
              "      <th>Cholesterol</th>\n",
              "      <th>MaxHR</th>\n",
              "      <th>Oldpeak</th>\n",
              "      <th>FastingBS</th>\n",
              "      <th>ASY</th>\n",
              "      <th>ATA</th>\n",
              "      <th>NAP</th>\n",
              "      <th>LVH</th>\n",
              "      <th>Normal</th>\n",
              "      <th>Down</th>\n",
              "      <th>Flat</th>\n",
              "      <th>Sex</th>\n",
              "      <th>ExerciseAngina</th>\n",
              "    </tr>\n",
              "  </thead>\n",
              "  <tbody>\n",
              "    <tr>\n",
              "      <th>0</th>\n",
              "      <td>0.244898</td>\n",
              "      <td>0.479270</td>\n",
              "      <td>0.788732</td>\n",
              "      <td>0.295455</td>\n",
              "      <td>0</td>\n",
              "      <td>0</td>\n",
              "      <td>1</td>\n",
              "      <td>0</td>\n",
              "      <td>0</td>\n",
              "      <td>1</td>\n",
              "      <td>0</td>\n",
              "      <td>0</td>\n",
              "      <td>0</td>\n",
              "      <td>0</td>\n",
              "    </tr>\n",
              "    <tr>\n",
              "      <th>1</th>\n",
              "      <td>0.428571</td>\n",
              "      <td>0.298507</td>\n",
              "      <td>0.676056</td>\n",
              "      <td>0.409091</td>\n",
              "      <td>0</td>\n",
              "      <td>0</td>\n",
              "      <td>0</td>\n",
              "      <td>1</td>\n",
              "      <td>0</td>\n",
              "      <td>1</td>\n",
              "      <td>0</td>\n",
              "      <td>1</td>\n",
              "      <td>1</td>\n",
              "      <td>0</td>\n",
              "    </tr>\n",
              "    <tr>\n",
              "      <th>2</th>\n",
              "      <td>0.183673</td>\n",
              "      <td>0.469320</td>\n",
              "      <td>0.267606</td>\n",
              "      <td>0.295455</td>\n",
              "      <td>0</td>\n",
              "      <td>0</td>\n",
              "      <td>1</td>\n",
              "      <td>0</td>\n",
              "      <td>0</td>\n",
              "      <td>0</td>\n",
              "      <td>0</td>\n",
              "      <td>0</td>\n",
              "      <td>0</td>\n",
              "      <td>0</td>\n",
              "    </tr>\n",
              "    <tr>\n",
              "      <th>3</th>\n",
              "      <td>0.408163</td>\n",
              "      <td>0.354892</td>\n",
              "      <td>0.338028</td>\n",
              "      <td>0.465909</td>\n",
              "      <td>0</td>\n",
              "      <td>1</td>\n",
              "      <td>0</td>\n",
              "      <td>0</td>\n",
              "      <td>0</td>\n",
              "      <td>1</td>\n",
              "      <td>0</td>\n",
              "      <td>1</td>\n",
              "      <td>1</td>\n",
              "      <td>1</td>\n",
              "    </tr>\n",
              "    <tr>\n",
              "      <th>4</th>\n",
              "      <td>0.530612</td>\n",
              "      <td>0.323383</td>\n",
              "      <td>0.436620</td>\n",
              "      <td>0.295455</td>\n",
              "      <td>0</td>\n",
              "      <td>0</td>\n",
              "      <td>0</td>\n",
              "      <td>1</td>\n",
              "      <td>0</td>\n",
              "      <td>1</td>\n",
              "      <td>0</td>\n",
              "      <td>0</td>\n",
              "      <td>0</td>\n",
              "      <td>0</td>\n",
              "    </tr>\n",
              "  </tbody>\n",
              "</table>\n",
              "</div>"
            ],
            "text/plain": [
              "        Age  Cholesterol     MaxHR   Oldpeak  ...  Down  Flat  Sex  ExerciseAngina\n",
              "0  0.244898     0.479270  0.788732  0.295455  ...     0     0    0               0\n",
              "1  0.428571     0.298507  0.676056  0.409091  ...     0     1    1               0\n",
              "2  0.183673     0.469320  0.267606  0.295455  ...     0     0    0               0\n",
              "3  0.408163     0.354892  0.338028  0.465909  ...     0     1    1               1\n",
              "4  0.530612     0.323383  0.436620  0.295455  ...     0     0    0               0\n",
              "\n",
              "[5 rows x 14 columns]"
            ]
          },
          "metadata": {},
          "execution_count": 98
        }
      ]
    },
    {
      "cell_type": "code",
      "metadata": {
        "id": "2Jy1LxFqWpAM"
      },
      "source": [
        "# split the data into train and test sets\n",
        "X_train_scaled, X_test_scaled, y_train, y_test = train_test_split(X_scaled, y, random_state=42) "
      ],
      "execution_count": null,
      "outputs": []
    },
    {
      "cell_type": "code",
      "metadata": {
        "id": "SNXUZIwWWpAN"
      },
      "source": [
        "model_2 = KNeighborsClassifier().fit(X_train_scaled, y_train)"
      ],
      "execution_count": null,
      "outputs": []
    },
    {
      "cell_type": "code",
      "metadata": {
        "id": "VgRtWqV4WpAN"
      },
      "source": [
        "model_2_pred = model_1.predict(X_test_scaled)"
      ],
      "execution_count": null,
      "outputs": []
    },
    {
      "cell_type": "code",
      "metadata": {
        "colab": {
          "base_uri": "https://localhost:8080/"
        },
        "id": "SUGGPOQjWpAN",
        "outputId": "53fac297-9769-413e-d1ad-7ef24de8425a"
      },
      "source": [
        "model_2.score(X_test_scaled, y_test)"
      ],
      "execution_count": null,
      "outputs": [
        {
          "output_type": "execute_result",
          "data": {
            "text/plain": [
              "0.8521739130434782"
            ]
          },
          "metadata": {},
          "execution_count": 111
        }
      ]
    },
    {
      "cell_type": "code",
      "metadata": {
        "colab": {
          "base_uri": "https://localhost:8080/",
          "height": 347
        },
        "id": "Kq1aD-7sWpAO",
        "outputId": "f4a57216-252f-473f-c3a7-54b9f4b19efb"
      },
      "source": [
        "sns.heatmap(confusion_matrix(y_test, model_2_pred), cmap='Blues');"
      ],
      "execution_count": null,
      "outputs": [
        {
          "output_type": "display_data",
          "data": {
            "image/png": "[encoded data removed]",
            "text/plain": [
              "<Figure size 576x396 with 2 Axes>"
            ]
          },
          "metadata": {}
        }
      ]
    },
    {
      "cell_type": "code",
      "metadata": {
        "id": "Q8MjE5mbWpAO"
      },
      "source": [
        "k_values = [*range(3, 30, 2)] + [*range(30, 70, 5)]\n",
        "models = []\n",
        "\n",
        "for k in k_values:\n",
        "  models.append(KNeighborsClassifier(n_neighbors=k).fit(X_train_scaled, y_train))"
      ],
      "execution_count": null,
      "outputs": []
    },
    {
      "cell_type": "code",
      "metadata": {
        "id": "OKYIYkqeWpAO"
      },
      "source": [
        "accuracy_scores = [model.score(X_test_scaled, y_test) for model in models]"
      ],
      "execution_count": null,
      "outputs": []
    },
    {
      "cell_type": "code",
      "metadata": {
        "colab": {
          "base_uri": "https://localhost:8080/",
          "height": 347
        },
        "id": "SElJBXIBWpAO",
        "outputId": "ef72ca43-d588-4b83-f30e-bc000714eade"
      },
      "source": [
        "plt.plot(k_values, accuracy_scores);"
      ],
      "execution_count": null,
      "outputs": [
        {
          "output_type": "display_data",
          "data": {
            "image/png": "[encoded data removed]",
            "text/plain": [
              "<Figure size 576x396 with 1 Axes>"
            ]
          },
          "metadata": {}
        }
      ]
    },
    {
      "cell_type": "markdown",
      "metadata": {
        "id": "vaM_GeoqXfq8"
      },
      "source": [
        "According to the graph above, we can further improve the model by selecting `n_neighbors = 19`"
      ]
    },
    {
      "cell_type": "code",
      "metadata": {
        "id": "-vnMSnZYaqaJ"
      },
      "source": [
        "best_knn = KNeighborsClassifier(n_neighbors=19).fit(X_train_scaled, y_train)"
      ],
      "execution_count": null,
      "outputs": []
    },
    {
      "cell_type": "code",
      "metadata": {
        "colab": {
          "base_uri": "https://localhost:8080/"
        },
        "id": "VTeLLPhZa0XJ",
        "outputId": "f1f04a20-9afa-4790-85b2-9e2b1415ef8d"
      },
      "source": [
        "best_knn.score(X_test_scaled, y_test)"
      ],
      "execution_count": null,
      "outputs": [
        {
          "output_type": "execute_result",
          "data": {
            "text/plain": [
              "0.8739130434782608"
            ]
          },
          "metadata": {},
          "execution_count": 157
        }
      ]
    },
    {
      "cell_type": "code",
      "metadata": {
        "id": "yd7U10eibmeg"
      },
      "source": [
        "best_knn_pred = best_knn.predict(X_test_scaled)"
      ],
      "execution_count": null,
      "outputs": []
    },
    {
      "cell_type": "markdown",
      "metadata": {
        "id": "D1ipYuuLbjsc"
      },
      "source": [
        "Trying a different model"
      ]
    },
    {
      "cell_type": "code",
      "metadata": {
        "id": "m72k2BFlU8Ir"
      },
      "source": [
        "from sklearn.ensemble import GradientBoostingClassifier"
      ],
      "execution_count": null,
      "outputs": []
    },
    {
      "cell_type": "code",
      "metadata": {
        "id": "Jjq-w25HVUsN"
      },
      "source": [
        "model_3 = GradientBoostingClassifier().fit(X_train_scaled, y_train)"
      ],
      "execution_count": null,
      "outputs": []
    },
    {
      "cell_type": "code",
      "metadata": {
        "colab": {
          "base_uri": "https://localhost:8080/"
        },
        "id": "UQaR3eHTXxCl",
        "outputId": "0b4bc80a-3b62-40a1-af7d-017eedd12c56"
      },
      "source": [
        "model_3.score(X_test_scaled, y_test)"
      ],
      "execution_count": null,
      "outputs": [
        {
          "output_type": "execute_result",
          "data": {
            "text/plain": [
              "0.8695652173913043"
            ]
          },
          "metadata": {},
          "execution_count": 146
        }
      ]
    },
    {
      "cell_type": "code",
      "metadata": {
        "id": "A_blKm3jX0JJ"
      },
      "source": [
        ""
      ],
      "execution_count": null,
      "outputs": []
    },
    {
      "cell_type": "code",
      "metadata": {
        "id": "ubiq3-KSZW2j"
      },
      "source": [
        "model_4 = GradientBoostingClassifier(n_estimators=20).fit(X_train_scaled, y_train)"
      ],
      "execution_count": null,
      "outputs": []
    },
    {
      "cell_type": "code",
      "metadata": {
        "colab": {
          "base_uri": "https://localhost:8080/"
        },
        "id": "0qmgpsIdZW2s",
        "outputId": "ddaa69a3-ee85-44ca-ea89-01e792e92d7f"
      },
      "source": [
        "model_4.score(X_test_scaled, y_test)"
      ],
      "execution_count": null,
      "outputs": [
        {
          "output_type": "execute_result",
          "data": {
            "text/plain": [
              "0.8869565217391304"
            ]
          },
          "metadata": {},
          "execution_count": 148
        }
      ]
    },
    {
      "cell_type": "code",
      "metadata": {
        "id": "W0Vr16yJZcvt"
      },
      "source": [
        ""
      ],
      "execution_count": null,
      "outputs": []
    },
    {
      "cell_type": "code",
      "metadata": {
        "id": "0xAk4D0rZyyp"
      },
      "source": [
        "# Plot ROC Curve of the best KNN model vs the best GradientBoost model\n",
        "knn_proba = best_knn.predict_proba(X_test_scaled)[:, 1]\n",
        "gb_proba = model_4.predict_proba(X_test_scaled)[:, 1]\n",
        "\n",
        "fpr_knn, tpr_knn, thresholds_knn = roc_curve(y_test, knn_proba)\n",
        "fpr_gb, tpr_gb, thresholds_gb = roc_curve(y_test, gb_proba)"
      ],
      "execution_count": null,
      "outputs": []
    },
    {
      "cell_type": "code",
      "metadata": {
        "colab": {
          "base_uri": "https://localhost:8080/",
          "height": 384
        },
        "id": "UZXKNAzfb3m5",
        "outputId": "816cc4f8-fc91-4160-b86f-e9ec21505712"
      },
      "source": [
        "plt.plot(fpr_knn, tpr_knn, label='KNN')\n",
        "plt.plot(fpr_gb, tpr_gb, label='Gradient Boost')\n",
        "plt.xlim([0.0, 1.0])\n",
        "plt.ylim([0.0, 1.0])\n",
        "plt.title('ROC curve for knn & decision tree classifiers', fontsize = 20)\n",
        "plt.xlabel('False Positive Rate (1 - preciotion)', fontsize = 12)\n",
        "plt.ylabel('True Positive Rate (recall)', fontsize = 12)\n",
        "plt.grid(True)\n",
        "plt.legend()\n",
        "plt.show()"
      ],
      "execution_count": null,
      "outputs": [
        {
          "output_type": "display_data",
          "data": {
            "image/png": "[encoded data removed]",
            "text/plain": [
              "<Figure size 576x396 with 1 Axes>"
            ]
          },
          "metadata": {}
        }
      ]
    },
    {
      "cell_type": "code",
      "metadata": {
        "id": "Q7jKGh7jb9qx"
      },
      "source": [
        ""
      ],
      "execution_count": null,
      "outputs": []
    }
  ]
}