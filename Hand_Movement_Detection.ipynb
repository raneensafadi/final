{
  "nbformat": 4,
  "nbformat_minor": 0,
  "metadata": {
    "colab": {
      "name": "Hand Movement Detection.ipynb",
      "provenance": [],
      "collapsed_sections": []
    },
    "kernelspec": {
      "name": "python3",
      "display_name": "Python 3"
    },
    "language_info": {
      "name": "python"
    },
    "accelerator": "GPU"
  },
  "cells": [
    {
      "cell_type": "markdown",
      "metadata": {
        "id": "NjFq2qyvuL_l"
      },
      "source": [
        "# Hand movement detection"
      ]
    },
    {
      "cell_type": "code",
      "metadata": {
        "id": "bieYvc1fYO9t"
      },
      "source": [
        "# ! unzip -q task4.zip"
      ],
      "execution_count": 1,
      "outputs": []
    },
    {
      "cell_type": "code",
      "metadata": {
        "id": "6F8vnSa8XbKB"
      },
      "source": [
        "import pandas as pd\n",
        "import numpy as np\n",
        "import matplotlib.pyplot as plt\n",
        "\n",
        "import os\n",
        "import re"
      ],
      "execution_count": 2,
      "outputs": []
    },
    {
      "cell_type": "code",
      "metadata": {
        "id": "RCCUjs4-YNSk"
      },
      "source": [
        "# Get column names and clean them\n",
        "col_names = [col.strip() for col in pd.read_csv('/content/HandRight.csv').columns]\n",
        "# compile pattern to extract label\n",
        "pat = re.compile(r'([A-Z][a-z]+)\\.csv')\n",
        "\n",
        "# Load the treaining data\n",
        "training_data = pd.DataFrame([], columns=col_names)\n",
        "for root, subdirs, files in os.walk('/content/Training/'):\n",
        "  if root.split('/')[-1] == 'not relevant' or len(files) == 0:\n",
        "    continue\n",
        "  # print(root)\n",
        "  classes = [re.findall(pat, f)[0] for f in files]\n",
        "  for file in files:\n",
        "    label = re.findall(pat, file)[0]\n",
        "    skiprows = range(1, 7) if label == 'Alone' else range(1, 14)\n",
        "    df = pd.read_csv(os.path.join(root, file), skiprows=skiprows)\n",
        "    df.columns = col_names\n",
        "    df['Label'] = label\n",
        "    training_data = pd.concat([training_data, df], ignore_index=True)"
      ],
      "execution_count": 4,
      "outputs": []
    },
    {
      "cell_type": "code",
      "metadata": {
        "colab": {
          "base_uri": "https://localhost:8080/",
          "height": 241
        },
        "id": "dELq-kGmaX8p",
        "outputId": "2ec93862-96ce-49d0-a198-f303288efad9"
      },
      "source": [
        "training_data.head()"
      ],
      "execution_count": 5,
      "outputs": [
        {
          "output_type": "execute_result",
          "data": {
            "text/html": [
              "<div>\n",
              "<style scoped>\n",
              "    .dataframe tbody tr th:only-of-type {\n",
              "        vertical-align: middle;\n",
              "    }\n",
              "\n",
              "    .dataframe tbody tr th {\n",
              "        vertical-align: top;\n",
              "    }\n",
              "\n",
              "    .dataframe thead th {\n",
              "        text-align: right;\n",
              "    }\n",
              "</style>\n",
              "<table border=\"1\" class=\"dataframe\">\n",
              "  <thead>\n",
              "    <tr style=\"text-align: right;\">\n",
              "      <th></th>\n",
              "      <th>Time</th>\n",
              "      <th>Frame ID</th>\n",
              "      <th>Hand Type</th>\n",
              "      <th># hands</th>\n",
              "      <th>Position X</th>\n",
              "      <th>Position Y</th>\n",
              "      <th>Position Z</th>\n",
              "      <th>Velocity X</th>\n",
              "      <th>Velocity Y</th>\n",
              "      <th>Velocity Z</th>\n",
              "      <th>Pitch</th>\n",
              "      <th>Roll</th>\n",
              "      <th>Yaw</th>\n",
              "      <th>Wrist Pos X</th>\n",
              "      <th>Wrist Pos Y</th>\n",
              "      <th>Wrist Pos Z</th>\n",
              "      <th>Elbow pos X</th>\n",
              "      <th>Elbow Pos Y</th>\n",
              "      <th>Elbow Pos Z</th>\n",
              "      <th>Grab Strenth</th>\n",
              "      <th>Grab Angle</th>\n",
              "      <th>Pinch Strength</th>\n",
              "      <th>Label</th>\n",
              "    </tr>\n",
              "  </thead>\n",
              "  <tbody>\n",
              "    <tr>\n",
              "      <th>0</th>\n",
              "      <td>375.7664</td>\n",
              "      <td>43877</td>\n",
              "      <td>right</td>\n",
              "      <td>2</td>\n",
              "      <td>109.81240</td>\n",
              "      <td>294.0425</td>\n",
              "      <td>23.82546</td>\n",
              "      <td>15.16876</td>\n",
              "      <td>187.2628</td>\n",
              "      <td>107.10750</td>\n",
              "      <td>0.939421</td>\n",
              "      <td>-0.733815</td>\n",
              "      <td>-0.414149</td>\n",
              "      <td>138.5343</td>\n",
              "      <td>242.4944</td>\n",
              "      <td>59.34635</td>\n",
              "      <td>292.7356</td>\n",
              "      <td>75.51405</td>\n",
              "      <td>147.64410</td>\n",
              "      <td>0.0</td>\n",
              "      <td>0.570134</td>\n",
              "      <td>0.000000</td>\n",
              "      <td>Spontan</td>\n",
              "    </tr>\n",
              "    <tr>\n",
              "      <th>1</th>\n",
              "      <td>375.7830</td>\n",
              "      <td>43879</td>\n",
              "      <td>left</td>\n",
              "      <td>2</td>\n",
              "      <td>-68.17884</td>\n",
              "      <td>184.6661</td>\n",
              "      <td>-33.41775</td>\n",
              "      <td>13.04194</td>\n",
              "      <td>178.0413</td>\n",
              "      <td>-123.50180</td>\n",
              "      <td>0.932778</td>\n",
              "      <td>0.322310</td>\n",
              "      <td>1.177865</td>\n",
              "      <td>-126.5636</td>\n",
              "      <td>154.7217</td>\n",
              "      <td>-15.63315</td>\n",
              "      <td>-262.3608</td>\n",
              "      <td>-43.82711</td>\n",
              "      <td>24.29723</td>\n",
              "      <td>0.0</td>\n",
              "      <td>0.837646</td>\n",
              "      <td>0.769844</td>\n",
              "      <td>Spontan</td>\n",
              "    </tr>\n",
              "    <tr>\n",
              "      <th>2</th>\n",
              "      <td>375.7830</td>\n",
              "      <td>43879</td>\n",
              "      <td>right</td>\n",
              "      <td>2</td>\n",
              "      <td>110.50540</td>\n",
              "      <td>297.0931</td>\n",
              "      <td>25.75209</td>\n",
              "      <td>34.46735</td>\n",
              "      <td>159.7672</td>\n",
              "      <td>100.00270</td>\n",
              "      <td>0.966124</td>\n",
              "      <td>-0.746050</td>\n",
              "      <td>-0.425343</td>\n",
              "      <td>139.3157</td>\n",
              "      <td>244.7854</td>\n",
              "      <td>60.06323</td>\n",
              "      <td>297.6381</td>\n",
              "      <td>80.92066</td>\n",
              "      <td>146.89240</td>\n",
              "      <td>0.0</td>\n",
              "      <td>0.627651</td>\n",
              "      <td>0.000000</td>\n",
              "      <td>Spontan</td>\n",
              "    </tr>\n",
              "    <tr>\n",
              "      <th>3</th>\n",
              "      <td>375.7995</td>\n",
              "      <td>43881</td>\n",
              "      <td>left</td>\n",
              "      <td>2</td>\n",
              "      <td>-68.41686</td>\n",
              "      <td>188.3904</td>\n",
              "      <td>-34.16297</td>\n",
              "      <td>16.83247</td>\n",
              "      <td>207.1948</td>\n",
              "      <td>-34.46944</td>\n",
              "      <td>0.875941</td>\n",
              "      <td>0.284841</td>\n",
              "      <td>1.119169</td>\n",
              "      <td>-125.5370</td>\n",
              "      <td>158.2299</td>\n",
              "      <td>-12.98100</td>\n",
              "      <td>-258.7485</td>\n",
              "      <td>-40.97414</td>\n",
              "      <td>32.06822</td>\n",
              "      <td>0.0</td>\n",
              "      <td>0.852355</td>\n",
              "      <td>0.837539</td>\n",
              "      <td>Spontan</td>\n",
              "    </tr>\n",
              "    <tr>\n",
              "      <th>4</th>\n",
              "      <td>375.7995</td>\n",
              "      <td>43881</td>\n",
              "      <td>right</td>\n",
              "      <td>2</td>\n",
              "      <td>111.61780</td>\n",
              "      <td>299.2377</td>\n",
              "      <td>27.55509</td>\n",
              "      <td>69.43216</td>\n",
              "      <td>120.5591</td>\n",
              "      <td>103.73370</td>\n",
              "      <td>0.970414</td>\n",
              "      <td>-0.725961</td>\n",
              "      <td>-0.448085</td>\n",
              "      <td>140.9998</td>\n",
              "      <td>246.8677</td>\n",
              "      <td>61.27683</td>\n",
              "      <td>295.9448</td>\n",
              "      <td>75.94328</td>\n",
              "      <td>140.23150</td>\n",
              "      <td>0.0</td>\n",
              "      <td>0.667204</td>\n",
              "      <td>0.000000</td>\n",
              "      <td>Spontan</td>\n",
              "    </tr>\n",
              "  </tbody>\n",
              "</table>\n",
              "</div>"
            ],
            "text/plain": [
              "       Time Frame ID Hand Type  ... Grab Angle  Pinch Strength    Label\n",
              "0  375.7664    43877     right  ...   0.570134        0.000000  Spontan\n",
              "1  375.7830    43879      left  ...   0.837646        0.769844  Spontan\n",
              "2  375.7830    43879     right  ...   0.627651        0.000000  Spontan\n",
              "3  375.7995    43881      left  ...   0.852355        0.837539  Spontan\n",
              "4  375.7995    43881     right  ...   0.667204        0.000000  Spontan\n",
              "\n",
              "[5 rows x 23 columns]"
            ]
          },
          "metadata": {},
          "execution_count": 5
        }
      ]
    },
    {
      "cell_type": "code",
      "metadata": {
        "colab": {
          "base_uri": "https://localhost:8080/"
        },
        "id": "i6xuO2W8lm_R",
        "outputId": "a94bdc8d-c5fb-4a7d-ba37-4afb712d38cb"
      },
      "source": [
        "training_data.info()"
      ],
      "execution_count": 6,
      "outputs": [
        {
          "output_type": "stream",
          "name": "stdout",
          "text": [
            "<class 'pandas.core.frame.DataFrame'>\n",
            "RangeIndex: 217568 entries, 0 to 217567\n",
            "Data columns (total 23 columns):\n",
            " #   Column          Non-Null Count   Dtype  \n",
            "---  ------          --------------   -----  \n",
            " 0   Time            217568 non-null  float64\n",
            " 1   Frame ID        217568 non-null  object \n",
            " 2   Hand Type       217568 non-null  object \n",
            " 3   # hands         217568 non-null  object \n",
            " 4   Position X      217568 non-null  float64\n",
            " 5   Position Y      217568 non-null  float64\n",
            " 6   Position Z      217568 non-null  float64\n",
            " 7   Velocity X      217568 non-null  float64\n",
            " 8   Velocity Y      217568 non-null  float64\n",
            " 9   Velocity Z      217568 non-null  float64\n",
            " 10  Pitch           217568 non-null  float64\n",
            " 11  Roll            217568 non-null  float64\n",
            " 12  Yaw             217568 non-null  float64\n",
            " 13  Wrist Pos X     217568 non-null  float64\n",
            " 14  Wrist Pos Y     217568 non-null  float64\n",
            " 15  Wrist Pos Z     217568 non-null  float64\n",
            " 16  Elbow pos X     217568 non-null  float64\n",
            " 17  Elbow Pos Y     217568 non-null  float64\n",
            " 18  Elbow Pos Z     217568 non-null  float64\n",
            " 19  Grab Strenth    217568 non-null  float64\n",
            " 20  Grab Angle      217568 non-null  float64\n",
            " 21  Pinch Strength  217568 non-null  float64\n",
            " 22  Label           217568 non-null  object \n",
            "dtypes: float64(19), object(4)\n",
            "memory usage: 38.2+ MB\n"
          ]
        }
      ]
    },
    {
      "cell_type": "markdown",
      "metadata": {
        "id": "t5yoqTaThUmS"
      },
      "source": [
        "## Data Preprocessing"
      ]
    },
    {
      "cell_type": "code",
      "metadata": {
        "id": "BaMja6Pjkz_M"
      },
      "source": [
        "from sklearn.preprocessing import MinMaxScaler, LabelEncoder\n",
        "from sklearn.model_selection import train_test_split"
      ],
      "execution_count": 7,
      "outputs": []
    },
    {
      "cell_type": "code",
      "metadata": {
        "id": "lS9uVVUXl3lQ"
      },
      "source": [
        "# Encode features\n",
        "training_data['One_Hand'] = (training_data['# hands'] == 1).astype(int)\n",
        "training_data['Left_Hand'] = (training_data['Hand Type'] == 'left').astype(int)"
      ],
      "execution_count": 8,
      "outputs": []
    },
    {
      "cell_type": "code",
      "metadata": {
        "id": "S86J4GqanW2E"
      },
      "source": [
        "le = LabelEncoder().fit(training_data['Label'])\n",
        "X, y = training_data.iloc[:, 4:].drop(columns='Label'), le.transform(training_data['Label'])"
      ],
      "execution_count": 34,
      "outputs": []
    },
    {
      "cell_type": "code",
      "metadata": {
        "id": "WscWupZNk0wr"
      },
      "source": [
        "X_norm = pd.DataFrame(MinMaxScaler().fit_transform(X), columns=X.columns)"
      ],
      "execution_count": 10,
      "outputs": []
    },
    {
      "cell_type": "code",
      "metadata": {
        "id": "cv64vHpkm7fv"
      },
      "source": [
        "X_train, X_test, y_train, y_test = train_test_split(X_norm, y, random_state=42)"
      ],
      "execution_count": 11,
      "outputs": []
    },
    {
      "cell_type": "markdown",
      "metadata": {
        "id": "s_71QHnpoATx"
      },
      "source": [
        "## Train models"
      ]
    },
    {
      "cell_type": "code",
      "metadata": {
        "id": "6CBGQDeloFjB"
      },
      "source": [
        "import tensorflow as tf"
      ],
      "execution_count": 12,
      "outputs": []
    },
    {
      "cell_type": "code",
      "metadata": {
        "colab": {
          "base_uri": "https://localhost:8080/"
        },
        "id": "oLqXqIRDoEIZ",
        "outputId": "0218dfa8-c2c2-43d9-a6a6-1cce60563747"
      },
      "source": [
        "# Train a model\n",
        "tf.random.set_seed(0)\n",
        "\n",
        "# Build the model\n",
        "model_1 = tf.keras.Sequential([\n",
        "  tf.keras.layers.Dense(10, activation='relu'),\n",
        "  tf.keras.layers.Dense(3, activation='softmax')\n",
        "])\n",
        "\n",
        "# Compile the model\n",
        "model_1.compile(\n",
        "    loss=tf.keras.losses.SparseCategoricalCrossentropy(),\n",
        "    optimizer=tf.keras.optimizers.Adam(),\n",
        "    metrics=['accuracy']\n",
        ")\n",
        "\n",
        "# Fit the model\n",
        "model_1.fit(X_train, y_train, epochs=20)"
      ],
      "execution_count": 16,
      "outputs": [
        {
          "output_type": "stream",
          "name": "stdout",
          "text": [
            "Epoch 1/20\n",
            "5100/5100 [==============================] - 16s 3ms/step - loss: 0.5482 - accuracy: 0.7220\n",
            "Epoch 2/20\n",
            "5100/5100 [==============================] - 14s 3ms/step - loss: 0.4881 - accuracy: 0.7547\n",
            "Epoch 3/20\n",
            "5100/5100 [==============================] - 14s 3ms/step - loss: 0.4644 - accuracy: 0.7770\n",
            "Epoch 4/20\n",
            "5100/5100 [==============================] - 14s 3ms/step - loss: 0.4475 - accuracy: 0.7904\n",
            "Epoch 5/20\n",
            "5100/5100 [==============================] - 14s 3ms/step - loss: 0.4366 - accuracy: 0.7983\n",
            "Epoch 6/20\n",
            "5100/5100 [==============================] - 14s 3ms/step - loss: 0.4279 - accuracy: 0.8041\n",
            "Epoch 7/20\n",
            "5100/5100 [==============================] - 14s 3ms/step - loss: 0.4213 - accuracy: 0.8085\n",
            "Epoch 8/20\n",
            "5100/5100 [==============================] - 14s 3ms/step - loss: 0.4151 - accuracy: 0.8128\n",
            "Epoch 9/20\n",
            "5100/5100 [==============================] - 14s 3ms/step - loss: 0.4094 - accuracy: 0.8165\n",
            "Epoch 10/20\n",
            "5100/5100 [==============================] - 13s 3ms/step - loss: 0.4047 - accuracy: 0.8190\n",
            "Epoch 11/20\n",
            "5100/5100 [==============================] - 14s 3ms/step - loss: 0.4002 - accuracy: 0.8213\n",
            "Epoch 12/20\n",
            "5100/5100 [==============================] - 14s 3ms/step - loss: 0.3967 - accuracy: 0.8228\n",
            "Epoch 13/20\n",
            "5100/5100 [==============================] - 14s 3ms/step - loss: 0.3936 - accuracy: 0.8245\n",
            "Epoch 14/20\n",
            "5100/5100 [==============================] - 14s 3ms/step - loss: 0.3913 - accuracy: 0.8245\n",
            "Epoch 15/20\n",
            "5100/5100 [==============================] - 14s 3ms/step - loss: 0.3893 - accuracy: 0.8256\n",
            "Epoch 16/20\n",
            "5100/5100 [==============================] - 14s 3ms/step - loss: 0.3877 - accuracy: 0.8267\n",
            "Epoch 17/20\n",
            "5100/5100 [==============================] - 14s 3ms/step - loss: 0.3861 - accuracy: 0.8268\n",
            "Epoch 18/20\n",
            "5100/5100 [==============================] - 14s 3ms/step - loss: 0.3849 - accuracy: 0.8269\n",
            "Epoch 19/20\n",
            "5100/5100 [==============================] - 13s 3ms/step - loss: 0.3838 - accuracy: 0.8275\n",
            "Epoch 20/20\n",
            "5100/5100 [==============================] - 13s 3ms/step - loss: 0.3826 - accuracy: 0.8274\n"
          ]
        },
        {
          "output_type": "execute_result",
          "data": {
            "text/plain": [
              "<keras.callbacks.History at 0x7f62c3c3f590>"
            ]
          },
          "metadata": {},
          "execution_count": 16
        }
      ]
    },
    {
      "cell_type": "code",
      "metadata": {
        "id": "GYf9v-KyodSi"
      },
      "source": [
        "from sklearn.metrics import accuracy_score, f1_score"
      ],
      "execution_count": 17,
      "outputs": []
    },
    {
      "cell_type": "code",
      "metadata": {
        "id": "RdVFWvIGq10D"
      },
      "source": [
        "model_1_pred = model_1.predict(X_test)"
      ],
      "execution_count": 18,
      "outputs": []
    },
    {
      "cell_type": "code",
      "metadata": {
        "colab": {
          "base_uri": "https://localhost:8080/"
        },
        "id": "aQG9MtnyqgVA",
        "outputId": "8128b594-56cb-4ae3-db65-bdcb59bd6c44"
      },
      "source": [
        "accuracy_score(y_test, model_1_pred.argmax(axis=1))"
      ],
      "execution_count": 26,
      "outputs": [
        {
          "output_type": "execute_result",
          "data": {
            "text/plain": [
              "0.8310229445506692"
            ]
          },
          "metadata": {},
          "execution_count": 26
        }
      ]
    },
    {
      "cell_type": "markdown",
      "metadata": {
        "id": "X5AxdKSZxbg7"
      },
      "source": [
        "Let's try to improve the model by running for more epochs, and adding another layer."
      ]
    },
    {
      "cell_type": "code",
      "metadata": {
        "colab": {
          "base_uri": "https://localhost:8080/"
        },
        "id": "XkZ4gpxDxjl2",
        "outputId": "82e9eba7-4a19-4b7d-9c74-2dd02fc5d248"
      },
      "source": [
        "# Train a model\n",
        "tf.random.set_seed(0)\n",
        "\n",
        "# Build the model\n",
        "model_2 = tf.keras.Sequential([\n",
        "  tf.keras.layers.Dense(10, activation='relu'),\n",
        "  tf.keras.layers.Dense(10, activation='relu'),\n",
        "  tf.keras.layers.Dense(3, activation='softmax')\n",
        "])\n",
        "\n",
        "# Compile the model\n",
        "model_2.compile(\n",
        "    loss=tf.keras.losses.SparseCategoricalCrossentropy(),\n",
        "    optimizer=tf.keras.optimizers.Adam(),\n",
        "    metrics=['accuracy']\n",
        ")\n",
        "\n",
        "# Fit the model\n",
        "model_2.fit(X_train, y_train, epochs=50)"
      ],
      "execution_count": 27,
      "outputs": [
        {
          "output_type": "stream",
          "name": "stdout",
          "text": [
            "Epoch 1/50\n",
            "5100/5100 [==============================] - 15s 3ms/step - loss: 0.5219 - accuracy: 0.7468\n",
            "Epoch 2/50\n",
            "5100/5100 [==============================] - 14s 3ms/step - loss: 0.4420 - accuracy: 0.8000\n",
            "Epoch 3/50\n",
            "5100/5100 [==============================] - 14s 3ms/step - loss: 0.4252 - accuracy: 0.8110\n",
            "Epoch 4/50\n",
            "5100/5100 [==============================] - 15s 3ms/step - loss: 0.4111 - accuracy: 0.8175\n",
            "Epoch 5/50\n",
            "5100/5100 [==============================] - 14s 3ms/step - loss: 0.4011 - accuracy: 0.8229\n",
            "Epoch 6/50\n",
            "5100/5100 [==============================] - 15s 3ms/step - loss: 0.3936 - accuracy: 0.8260\n",
            "Epoch 7/50\n",
            "5100/5100 [==============================] - 15s 3ms/step - loss: 0.3869 - accuracy: 0.8284\n",
            "Epoch 8/50\n",
            "5100/5100 [==============================] - 14s 3ms/step - loss: 0.3819 - accuracy: 0.8309\n",
            "Epoch 9/50\n",
            "5100/5100 [==============================] - 15s 3ms/step - loss: 0.3775 - accuracy: 0.8327\n",
            "Epoch 10/50\n",
            "5100/5100 [==============================] - 14s 3ms/step - loss: 0.3747 - accuracy: 0.8331\n",
            "Epoch 11/50\n",
            "5100/5100 [==============================] - 14s 3ms/step - loss: 0.3717 - accuracy: 0.8355\n",
            "Epoch 12/50\n",
            "5100/5100 [==============================] - 14s 3ms/step - loss: 0.3692 - accuracy: 0.8362\n",
            "Epoch 13/50\n",
            "5100/5100 [==============================] - 14s 3ms/step - loss: 0.3659 - accuracy: 0.8385\n",
            "Epoch 14/50\n",
            "5100/5100 [==============================] - 14s 3ms/step - loss: 0.3641 - accuracy: 0.8390\n",
            "Epoch 15/50\n",
            "5100/5100 [==============================] - 15s 3ms/step - loss: 0.3620 - accuracy: 0.8404\n",
            "Epoch 16/50\n",
            "5100/5100 [==============================] - 15s 3ms/step - loss: 0.3602 - accuracy: 0.8420\n",
            "Epoch 17/50\n",
            "5100/5100 [==============================] - 14s 3ms/step - loss: 0.3587 - accuracy: 0.8423\n",
            "Epoch 18/50\n",
            "5100/5100 [==============================] - 14s 3ms/step - loss: 0.3573 - accuracy: 0.8425\n",
            "Epoch 19/50\n",
            "5100/5100 [==============================] - 14s 3ms/step - loss: 0.3555 - accuracy: 0.8443\n",
            "Epoch 20/50\n",
            "5100/5100 [==============================] - 14s 3ms/step - loss: 0.3547 - accuracy: 0.8448\n",
            "Epoch 21/50\n",
            "5100/5100 [==============================] - 15s 3ms/step - loss: 0.3534 - accuracy: 0.8454\n",
            "Epoch 22/50\n",
            "5100/5100 [==============================] - 14s 3ms/step - loss: 0.3520 - accuracy: 0.8461\n",
            "Epoch 23/50\n",
            "5100/5100 [==============================] - 14s 3ms/step - loss: 0.3508 - accuracy: 0.8458\n",
            "Epoch 24/50\n",
            "5100/5100 [==============================] - 14s 3ms/step - loss: 0.3499 - accuracy: 0.8471\n",
            "Epoch 25/50\n",
            "5100/5100 [==============================] - 14s 3ms/step - loss: 0.3494 - accuracy: 0.8471\n",
            "Epoch 26/50\n",
            "5100/5100 [==============================] - 14s 3ms/step - loss: 0.3483 - accuracy: 0.8477\n",
            "Epoch 27/50\n",
            "5100/5100 [==============================] - 14s 3ms/step - loss: 0.3476 - accuracy: 0.8476\n",
            "Epoch 28/50\n",
            "5100/5100 [==============================] - 14s 3ms/step - loss: 0.3475 - accuracy: 0.8473\n",
            "Epoch 29/50\n",
            "5100/5100 [==============================] - 14s 3ms/step - loss: 0.3463 - accuracy: 0.8490\n",
            "Epoch 30/50\n",
            "5100/5100 [==============================] - 14s 3ms/step - loss: 0.3463 - accuracy: 0.8483\n",
            "Epoch 31/50\n",
            "5100/5100 [==============================] - 14s 3ms/step - loss: 0.3456 - accuracy: 0.8488\n",
            "Epoch 32/50\n",
            "5100/5100 [==============================] - 14s 3ms/step - loss: 0.3455 - accuracy: 0.8487\n",
            "Epoch 33/50\n",
            "5100/5100 [==============================] - 14s 3ms/step - loss: 0.3448 - accuracy: 0.8490\n",
            "Epoch 34/50\n",
            "5100/5100 [==============================] - 14s 3ms/step - loss: 0.3444 - accuracy: 0.8497\n",
            "Epoch 35/50\n",
            "5100/5100 [==============================] - 14s 3ms/step - loss: 0.3438 - accuracy: 0.8493\n",
            "Epoch 36/50\n",
            "5100/5100 [==============================] - 14s 3ms/step - loss: 0.3441 - accuracy: 0.8499\n",
            "Epoch 37/50\n",
            "5100/5100 [==============================] - 15s 3ms/step - loss: 0.3434 - accuracy: 0.8496\n",
            "Epoch 38/50\n",
            "5100/5100 [==============================] - 15s 3ms/step - loss: 0.3428 - accuracy: 0.8500\n",
            "Epoch 39/50\n",
            "5100/5100 [==============================] - 15s 3ms/step - loss: 0.3427 - accuracy: 0.8497\n",
            "Epoch 40/50\n",
            "5100/5100 [==============================] - 14s 3ms/step - loss: 0.3426 - accuracy: 0.8500\n",
            "Epoch 41/50\n",
            "5100/5100 [==============================] - 14s 3ms/step - loss: 0.3421 - accuracy: 0.8507\n",
            "Epoch 42/50\n",
            "5100/5100 [==============================] - 14s 3ms/step - loss: 0.3416 - accuracy: 0.8503\n",
            "Epoch 43/50\n",
            "5100/5100 [==============================] - 14s 3ms/step - loss: 0.3413 - accuracy: 0.8509\n",
            "Epoch 44/50\n",
            "5100/5100 [==============================] - 14s 3ms/step - loss: 0.3403 - accuracy: 0.8508\n",
            "Epoch 45/50\n",
            "5100/5100 [==============================] - 14s 3ms/step - loss: 0.3403 - accuracy: 0.8511\n",
            "Epoch 46/50\n",
            "5100/5100 [==============================] - 14s 3ms/step - loss: 0.3404 - accuracy: 0.8501\n",
            "Epoch 47/50\n",
            "5100/5100 [==============================] - 14s 3ms/step - loss: 0.3400 - accuracy: 0.8507\n",
            "Epoch 48/50\n",
            "5100/5100 [==============================] - 15s 3ms/step - loss: 0.3389 - accuracy: 0.8516\n",
            "Epoch 49/50\n",
            "5100/5100 [==============================] - 14s 3ms/step - loss: 0.3387 - accuracy: 0.8512\n",
            "Epoch 50/50\n",
            "5100/5100 [==============================] - 14s 3ms/step - loss: 0.3382 - accuracy: 0.8514\n"
          ]
        },
        {
          "output_type": "execute_result",
          "data": {
            "text/plain": [
              "<keras.callbacks.History at 0x7f62c6728310>"
            ]
          },
          "metadata": {},
          "execution_count": 27
        }
      ]
    },
    {
      "cell_type": "code",
      "metadata": {
        "id": "KnswafHo1IoX"
      },
      "source": [
        "model_2_pred = model_2.predict(X_test)"
      ],
      "execution_count": 30,
      "outputs": []
    },
    {
      "cell_type": "code",
      "metadata": {
        "colab": {
          "base_uri": "https://localhost:8080/"
        },
        "id": "CAqUesj11IoX",
        "outputId": "8a0c8839-7ec5-46f7-c004-aa036c29626e"
      },
      "source": [
        "accuracy_score(y_test, model_2_pred.argmax(axis=1))"
      ],
      "execution_count": 31,
      "outputs": [
        {
          "output_type": "execute_result",
          "data": {
            "text/plain": [
              "0.8488196793646124"
            ]
          },
          "metadata": {},
          "execution_count": 31
        }
      ]
    },
    {
      "cell_type": "code",
      "metadata": {
        "colab": {
          "base_uri": "https://localhost:8080/"
        },
        "id": "vyy7x7maxuW7",
        "outputId": "002a9c4b-ec68-49d1-a753-28d6df1fec81"
      },
      "source": [
        "f1_score(y_test, model_2_pred.argmax(axis=1), average=None)"
      ],
      "execution_count": 33,
      "outputs": [
        {
          "output_type": "execute_result",
          "data": {
            "text/plain": [
              "array([0.98951166, 0.80700014, 0.81166972])"
            ]
          },
          "metadata": {},
          "execution_count": 33
        }
      ]
    },
    {
      "cell_type": "code",
      "metadata": {
        "colab": {
          "base_uri": "https://localhost:8080/"
        },
        "id": "yxSi1L1j1fUU",
        "outputId": "2139e0b4-f8d9-43db-f53c-877d424e9f33"
      },
      "source": [
        "le.classes_"
      ],
      "execution_count": 35,
      "outputs": [
        {
          "output_type": "execute_result",
          "data": {
            "text/plain": [
              "array(['Alone', 'Spontan', 'Sync'], dtype=object)"
            ]
          },
          "metadata": {},
          "execution_count": 35
        }
      ]
    },
    {
      "cell_type": "markdown",
      "metadata": {
        "id": "3i4m1UGp3xLV"
      },
      "source": [
        "Now let's test against the actual testing data"
      ]
    },
    {
      "cell_type": "code",
      "metadata": {
        "id": "WGrDhqJN2I3l"
      },
      "source": [
        "## Load the test data\n",
        "testing_data = pd.DataFrame([], columns=col_names)\n",
        "for root, subdirs, files in os.walk('/content/Validation/'):\n",
        "  if root.split('/')[-1] == 'not relevant' or len(files) == 0:\n",
        "    continue\n",
        "  # print(root)\n",
        "  classes = [re.findall(pat, f)[0] for f in files]\n",
        "  for file in files:\n",
        "    label = re.findall(pat, file)[0]\n",
        "    skiprows = range(1, 7) if label == 'Alone' else range(1, 14)\n",
        "    df = pd.read_csv(os.path.join(root, file), skiprows=skiprows)\n",
        "    df.columns = col_names\n",
        "    df['Label'] = label\n",
        "    testing_data = pd.concat([testing_data, df], ignore_index=True)"
      ],
      "execution_count": 37,
      "outputs": []
    },
    {
      "cell_type": "markdown",
      "metadata": {
        "id": "KmyJbxF74Dza"
      },
      "source": [
        "We need to apply the same preprocessing steps on the test data"
      ]
    },
    {
      "cell_type": "code",
      "metadata": {
        "id": "WOfMpzgw2r-Z"
      },
      "source": [
        "# Encode features\n",
        "testing_data['One_Hand'] = (testing_data['# hands'] == 1).astype(int)\n",
        "testing_data['Left_Hand'] = (testing_data['Hand Type'] == 'left').astype(int)"
      ],
      "execution_count": 38,
      "outputs": []
    },
    {
      "cell_type": "code",
      "metadata": {
        "id": "KfS2FkQM2r-Z"
      },
      "source": [
        "# le = LabelEncoder().fit(testing_data['Label'])\n",
        "X_test_final, y_test_final = testing_data.iloc[:, 4:].drop(columns='Label'), le.transform(testing_data['Label'])"
      ],
      "execution_count": 39,
      "outputs": []
    },
    {
      "cell_type": "code",
      "metadata": {
        "id": "3STqKWDn2r-a"
      },
      "source": [
        "X_test_final_norm = pd.DataFrame(MinMaxScaler().fit_transform(X_test_final), columns=X_test_final.columns)"
      ],
      "execution_count": 40,
      "outputs": []
    },
    {
      "cell_type": "markdown",
      "metadata": {
        "id": "y5OENm1w4KSe"
      },
      "source": [
        "Calculate accuracy and F1-score for the two models"
      ]
    },
    {
      "cell_type": "code",
      "metadata": {
        "id": "BJCNCtox3gIU"
      },
      "source": [
        "# model 1 predictions\n",
        "model_1_final_pred = model_1.predict(X_test_final_norm)"
      ],
      "execution_count": null,
      "outputs": []
    },
    {
      "cell_type": "code",
      "metadata": {
        "colab": {
          "base_uri": "https://localhost:8080/"
        },
        "id": "-kyo6CKX3gIU",
        "outputId": "3c1d5d19-8673-402f-e058-e4356345ef7e"
      },
      "source": [
        "accuracy_score(y_test_final, model_1_final_pred.argmax(axis=1))"
      ],
      "execution_count": null,
      "outputs": [
        {
          "output_type": "execute_result",
          "data": {
            "text/plain": [
              "0.6604307582769668"
            ]
          },
          "metadata": {},
          "execution_count": 45
        }
      ]
    },
    {
      "cell_type": "code",
      "metadata": {
        "colab": {
          "base_uri": "https://localhost:8080/"
        },
        "id": "nUvPrWMG3gIV",
        "outputId": "5b7e1c27-834f-4e8a-c239-988b606f75b8"
      },
      "source": [
        "f1_score(y_test_final, model_1_final_pred.argmax(axis=1), average=None)"
      ],
      "execution_count": null,
      "outputs": [
        {
          "output_type": "execute_result",
          "data": {
            "text/plain": [
              "array([0.91821424, 0.44960403, 0.67397631])"
            ]
          },
          "metadata": {},
          "execution_count": 46
        }
      ]
    },
    {
      "cell_type": "code",
      "metadata": {
        "id": "RI7SmjNM2V7C"
      },
      "source": [
        "# model 2 predictions\n",
        "model_2_final_pred = model_2.predict(X_test_final_norm)"
      ],
      "execution_count": 41,
      "outputs": []
    },
    {
      "cell_type": "code",
      "metadata": {
        "colab": {
          "base_uri": "https://localhost:8080/"
        },
        "id": "EQqBYnIZ3X2d",
        "outputId": "652bbf33-bc89-4d0c-b107-5182f371679c"
      },
      "source": [
        "accuracy_score(y_test_final, model_2_final_pred.argmax(axis=1))"
      ],
      "execution_count": 42,
      "outputs": [
        {
          "output_type": "execute_result",
          "data": {
            "text/plain": [
              "0.6247953008187968"
            ]
          },
          "metadata": {},
          "execution_count": 42
        }
      ]
    },
    {
      "cell_type": "code",
      "metadata": {
        "colab": {
          "base_uri": "https://localhost:8080/"
        },
        "id": "aNWQpfXO3X2e",
        "outputId": "7288cad8-eb19-4adc-f681-076b52b2e709"
      },
      "source": [
        "f1_score(y_test_final, model_2_final_pred.argmax(axis=1), average=None)"
      ],
      "execution_count": 43,
      "outputs": [
        {
          "output_type": "execute_result",
          "data": {
            "text/plain": [
              "array([0.96925139, 0.33478763, 0.64331353])"
            ]
          },
          "metadata": {},
          "execution_count": 43
        }
      ]
    },
    {
      "cell_type": "markdown",
      "metadata": {
        "id": "7YK3qpKi3U4S"
      },
      "source": [
        "Model_2, surprisingly, gets a lower accuracy score on the test set, although it had better results on the validation set.  \n",
        "However, the F1 score for the Alone class is better than model_1.  \n",
        "Maybe it is because model_2 is overfitting on that specific class."
      ]
    },
    {
      "cell_type": "markdown",
      "metadata": {
        "id": "cvNG-X-C41wp"
      },
      "source": [
        "### Test the models against the HandRight.csv data"
      ]
    },
    {
      "cell_type": "code",
      "metadata": {
        "id": "yEXHZaxF5JAY"
      },
      "source": [
        "# Read the data\n",
        "right_hand = pd.read_csv('/content/HandRight.csv', skiprows=range(1, 7))\n",
        "right_hand.columns = col_names"
      ],
      "execution_count": 54,
      "outputs": []
    },
    {
      "cell_type": "markdown",
      "metadata": {
        "id": "x5KO3MLi5k_O"
      },
      "source": [
        "We need to apply the same preprocessing steps on the test data"
      ]
    },
    {
      "cell_type": "code",
      "metadata": {
        "id": "y5EH5xxl5k_O"
      },
      "source": [
        "# Encode features\n",
        "right_hand['One_Hand'] = (right_hand['# hands'] == 1).astype(int)\n",
        "right_hand['Left_Hand'] = (right_hand['Hand Type'] == 'left').astype(int)\n",
        "right_hand['Label'] = 'Alone'"
      ],
      "execution_count": 56,
      "outputs": []
    },
    {
      "cell_type": "code",
      "metadata": {
        "id": "aWiH1yVC5k_O"
      },
      "source": [
        "# le = LabelEncoder().fit(testing_data['Label'])\n",
        "X_test_right_hand, y_test_right_hand = right_hand.iloc[:, 4:].drop(columns='Label'), le.transform(right_hand['Label'])"
      ],
      "execution_count": 59,
      "outputs": []
    },
    {
      "cell_type": "code",
      "metadata": {
        "id": "2vTY4fNZ5k_O"
      },
      "source": [
        "X_test_right_hand_norm = pd.DataFrame(MinMaxScaler().fit_transform(X_test_right_hand), columns=X_test_right_hand.columns)"
      ],
      "execution_count": 60,
      "outputs": []
    },
    {
      "cell_type": "markdown",
      "metadata": {
        "id": "4_CycAPj5k_P"
      },
      "source": [
        "Calculate accuracy and F1-score for the two models"
      ]
    },
    {
      "cell_type": "code",
      "metadata": {
        "id": "kPnGt_zn5k_P"
      },
      "source": [
        "# model 1 predictions\n",
        "model_1_right_hand_pred = model_1.predict(X_test_right_hand_norm)"
      ],
      "execution_count": 61,
      "outputs": []
    },
    {
      "cell_type": "code",
      "metadata": {
        "colab": {
          "base_uri": "https://localhost:8080/"
        },
        "id": "I7mgNSSC5k_P",
        "outputId": "205b6b56-9116-4c88-ae18-77c4293d56fc"
      },
      "source": [
        "accuracy_score(y_test_right_hand, model_1_right_hand_pred.argmax(axis=1))"
      ],
      "execution_count": 62,
      "outputs": [
        {
          "output_type": "execute_result",
          "data": {
            "text/plain": [
              "0.9107365792759051"
            ]
          },
          "metadata": {},
          "execution_count": 62
        }
      ]
    },
    {
      "cell_type": "code",
      "metadata": {
        "colab": {
          "base_uri": "https://localhost:8080/"
        },
        "id": "ESZkFp7m5k_P",
        "outputId": "d9fb9cc5-9a55-4d1b-a14e-98cd05b94efa"
      },
      "source": [
        "f1_score(y_test_right_hand, model_1_right_hand_pred.argmax(axis=1), average=None)"
      ],
      "execution_count": 63,
      "outputs": [
        {
          "output_type": "execute_result",
          "data": {
            "text/plain": [
              "array([0.95328324, 0.        , 0.        ])"
            ]
          },
          "metadata": {},
          "execution_count": 63
        }
      ]
    },
    {
      "cell_type": "code",
      "metadata": {
        "id": "TPajrX-S6aZ2"
      },
      "source": [
        "# model 2 predictions\n",
        "model_2_right_hand_pred = model_2.predict(X_test_right_hand_norm)"
      ],
      "execution_count": 64,
      "outputs": []
    },
    {
      "cell_type": "code",
      "metadata": {
        "colab": {
          "base_uri": "https://localhost:8080/"
        },
        "id": "YMxOxZuA6aZ3",
        "outputId": "c9724683-238c-44fb-f9d6-94bd43ed2e03"
      },
      "source": [
        "accuracy_score(y_test_right_hand, model_2_right_hand_pred.argmax(axis=1))"
      ],
      "execution_count": 67,
      "outputs": [
        {
          "output_type": "execute_result",
          "data": {
            "text/plain": [
              "0.9837702871410736"
            ]
          },
          "metadata": {},
          "execution_count": 67
        }
      ]
    },
    {
      "cell_type": "code",
      "metadata": {
        "colab": {
          "base_uri": "https://localhost:8080/"
        },
        "id": "ReQ8Kwrf6aZ3",
        "outputId": "5e794a66-61c6-4967-d1a5-434e4ce573ed"
      },
      "source": [
        "f1_score(y_test_right_hand, model_2_right_hand_pred.argmax(axis=1), average=None)"
      ],
      "execution_count": 68,
      "outputs": [
        {
          "output_type": "execute_result",
          "data": {
            "text/plain": [
              "array([0.99181875, 0.        , 0.        ])"
            ]
          },
          "metadata": {},
          "execution_count": 68
        }
      ]
    },
    {
      "cell_type": "markdown",
      "metadata": {
        "id": "J28gyz5Y5gXF"
      },
      "source": [
        "Now we can clearly see that model_2 outperforms model_1 on the Alone class"
      ]
    },
    {
      "cell_type": "code",
      "metadata": {
        "id": "R2BWMRyt6yv1"
      },
      "source": [
        ""
      ],
      "execution_count": null,
      "outputs": []
    }
  ]
}