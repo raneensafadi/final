{
  "nbformat": 4,
  "nbformat_minor": 5,
  "metadata": {
    "kernelspec": {
      "display_name": "Python 3 (ipykernel)",
      "language": "python",
      "name": "python3"
    },
    "language_info": {
      "codemirror_mode": {
        "name": "ipython",
        "version": 3
      },
      "file_extension": ".py",
      "mimetype": "text/x-python",
      "name": "python",
      "nbconvert_exporter": "python",
      "pygments_lexer": "ipython3",
      "version": "3.9.0"
    },
    "colab": {
      "name": "fminst.ipynb",
      "provenance": [],
      "collapsed_sections": [],
      "toc_visible": true
    },
    "accelerator": "GPU"
  },
  "cells": [
    {
      "cell_type": "markdown",
      "metadata": {
        "id": "b016dc4b-64c8-41ea-a8ea-27ca565c20c8"
      },
      "source": [
        "# Fashion MNIST image classification using Xgboost\n"
      ],
      "id": "b016dc4b-64c8-41ea-a8ea-27ca565c20c8"
    },
    {
      "cell_type": "code",
      "metadata": {
        "id": "7fa95674-0d4e-41e9-a907-ed6d818dd87b"
      },
      "source": [
        "from keras.datasets import fashion_mnist\n",
        "# from sklearn import metrics\n",
        "# from sklearn.model_selection import cross_val_score\n",
        "import matplotlib.pyplot as plt"
      ],
      "id": "7fa95674-0d4e-41e9-a907-ed6d818dd87b",
      "execution_count": 7,
      "outputs": []
    },
    {
      "cell_type": "markdown",
      "metadata": {
        "id": "d0b3201a-fbd2-490a-8b3a-d10c9569d4e1"
      },
      "source": [
        "<h4>Fetch randomly shuffled data, split into training and test sets</h4>"
      ],
      "id": "d0b3201a-fbd2-490a-8b3a-d10c9569d4e1"
    },
    {
      "cell_type": "code",
      "metadata": {
        "colab": {
          "base_uri": "https://localhost:8080/"
        },
        "id": "e6edc355-6c41-449a-ac29-e2a5c49a6ba6",
        "outputId": "00a82b44-21d2-4612-8d3f-256e4c5bc348"
      },
      "source": [
        "(X_train, y_train), (X_test, y_test) = fashion_mnist.load_data()"
      ],
      "id": "e6edc355-6c41-449a-ac29-e2a5c49a6ba6",
      "execution_count": 4,
      "outputs": [
        {
          "output_type": "stream",
          "name": "stdout",
          "text": [
            "Downloading data from https://storage.googleapis.com/tensorflow/tf-keras-datasets/train-labels-idx1-ubyte.gz\n",
            "32768/29515 [=================================] - 0s 0us/step\n",
            "40960/29515 [=========================================] - 0s 0us/step\n",
            "Downloading data from https://storage.googleapis.com/tensorflow/tf-keras-datasets/train-images-idx3-ubyte.gz\n",
            "26427392/26421880 [==============================] - 0s 0us/step\n",
            "26435584/26421880 [==============================] - 0s 0us/step\n",
            "Downloading data from https://storage.googleapis.com/tensorflow/tf-keras-datasets/t10k-labels-idx1-ubyte.gz\n",
            "16384/5148 [===============================================================================================] - 0s 0us/step\n",
            "Downloading data from https://storage.googleapis.com/tensorflow/tf-keras-datasets/t10k-images-idx3-ubyte.gz\n",
            "4423680/4422102 [==============================] - 0s 0us/step\n",
            "4431872/4422102 [==============================] - 0s 0us/step\n"
          ]
        }
      ]
    },
    {
      "cell_type": "code",
      "metadata": {
        "id": "rasCz5aeytRs"
      },
      "source": [
        "class_names = ['T-shirt/top', 'Trouser', 'Pullover', 'Dress', 'Coat', \n",
        "               'Sandal', 'Shirt', 'Sneaker', 'Bag', 'Ankle boot']"
      ],
      "id": "rasCz5aeytRs",
      "execution_count": 5,
      "outputs": []
    },
    {
      "cell_type": "code",
      "metadata": {
        "colab": {
          "base_uri": "https://localhost:8080/",
          "height": 427
        },
        "id": "iRhnSw2-WYi_",
        "outputId": "097b03d2-43a0-4d86-8182-48d6cedd96fe"
      },
      "source": [
        "# Plot multiple random images of fashion MNIST\n",
        "import random\n",
        "plt.figure(figsize=(7, 7))\n",
        "for i in range(4):\n",
        "  ax = plt.subplot(2, 2, i + 1)\n",
        "  rand_index = random.choice(range(len(X_train)))\n",
        "  plt.imshow(X_train[rand_index], cmap=plt.cm.binary)\n",
        "  plt.title(class_names[y_train[rand_index]])\n",
        "  plt.axis(False)"
      ],
      "id": "iRhnSw2-WYi_",
      "execution_count": 10,
      "outputs": [
        {
          "output_type": "display_data",
          "data": {
            "image/png": "[encoded data removed]",
            "text/plain": [
              "<Figure size 504x504 with 4 Axes>"
            ]
          },
          "metadata": {
            "needs_background": "light"
          }
        }
      ]
    },
    {
      "cell_type": "markdown",
      "metadata": {
        "id": "QJUArxssDqyu"
      },
      "source": [
        "## Data Preprocessing"
      ],
      "id": "QJUArxssDqyu"
    },
    {
      "cell_type": "markdown",
      "metadata": {
        "id": "ec9e3cf1-e60c-4662-97df-bbef8ef0c1e6"
      },
      "source": [
        "****Reshape training data into a flat array of length 784.****"
      ],
      "id": "ec9e3cf1-e60c-4662-97df-bbef8ef0c1e6"
    },
    {
      "cell_type": "code",
      "metadata": {
        "id": "21718c2f-7d98-4c49-bb29-aded6ff794a0"
      },
      "source": [
        "flat = 28 * 28\n",
        "X_train = X_train.reshape(60000, flat)\n",
        "X_test = X_test.reshape(10000, flat)"
      ],
      "id": "21718c2f-7d98-4c49-bb29-aded6ff794a0",
      "execution_count": 5,
      "outputs": []
    },
    {
      "cell_type": "markdown",
      "metadata": {
        "id": "889acf6c-f8bd-4190-8362-4a2f4e2ef49d"
      },
      "source": [
        "****Noramalize the data set****"
      ],
      "id": "889acf6c-f8bd-4190-8362-4a2f4e2ef49d"
    },
    {
      "cell_type": "code",
      "metadata": {
        "id": "8ed82841-9564-4e93-989c-bfcaedbc4986"
      },
      "source": [
        "X_train /= 255.\n",
        "X_test /= 255."
      ],
      "id": "8ed82841-9564-4e93-989c-bfcaedbc4986",
      "execution_count": 6,
      "outputs": []
    },
    {
      "cell_type": "code",
      "metadata": {
        "colab": {
          "base_uri": "https://localhost:8080/"
        },
        "id": "b172ff2c-0057-4323-9407-801f893d8da2",
        "outputId": "2f784d6c-ca1d-444d-ad13-87fce2083f4f"
      },
      "source": [
        "print(X_train.shape[0], 'train samples')\n",
        "print(X_test.shape[0], 'test samples')"
      ],
      "id": "b172ff2c-0057-4323-9407-801f893d8da2",
      "execution_count": 7,
      "outputs": [
        {
          "output_type": "stream",
          "name": "stdout",
          "text": [
            "60000 train samples\n",
            "10000 test samples\n"
          ]
        }
      ]
    },
    {
      "cell_type": "markdown",
      "metadata": {
        "id": "RgWQEMeVDu7s"
      },
      "source": [
        "## Fitting the models"
      ],
      "id": "RgWQEMeVDu7s"
    },
    {
      "cell_type": "markdown",
      "metadata": {
        "id": "3022be69-3bfd-47f4-b02d-2f35a538e4d8"
      },
      "source": [
        "****Use Xgboost model to fit the data****"
      ],
      "id": "3022be69-3bfd-47f4-b02d-2f35a538e4d8"
    },
    {
      "cell_type": "markdown",
      "metadata": {
        "id": "yKEcDUnhD5gH"
      },
      "source": [
        "### Model 1"
      ],
      "id": "yKEcDUnhD5gH"
    },
    {
      "cell_type": "code",
      "metadata": {
        "id": "ACyKkJispgdt"
      },
      "source": [
        "import xgboost as xgb"
      ],
      "id": "ACyKkJispgdt",
      "execution_count": null,
      "outputs": []
    },
    {
      "cell_type": "code",
      "metadata": {
        "colab": {
          "base_uri": "https://localhost:8080/"
        },
        "id": "9521055c-420f-40c5-87c6-9d819547f534",
        "outputId": "3600c1e9-2f28-4681-9a90-c660c69f7922"
      },
      "source": [
        "model_1 = xgb.XGBClassifier(tree_method='gpu_hist', gpu_id=0, n_jobs=-1)\n",
        "model_1.fit(X_train, y_train, verbose=True)"
      ],
      "id": "9521055c-420f-40c5-87c6-9d819547f534",
      "execution_count": 46,
      "outputs": [
        {
          "output_type": "execute_result",
          "data": {
            "text/plain": [
              "XGBClassifier(base_score=0.5, booster='gbtree', colsample_bylevel=1,\n",
              "              colsample_bynode=1, colsample_bytree=1, gamma=0, gpu_id=0,\n",
              "              learning_rate=0.1, max_delta_step=0, max_depth=3,\n",
              "              min_child_weight=1, missing=None, n_estimators=100, n_jobs=-1,\n",
              "              nthread=None, objective='multi:softprob', random_state=0,\n",
              "              reg_alpha=0, reg_lambda=1, scale_pos_weight=1, seed=None,\n",
              "              silent=None, subsample=1, tree_method='gpu_hist', verbosity=1)"
            ]
          },
          "metadata": {},
          "execution_count": 46
        }
      ]
    },
    {
      "cell_type": "code",
      "metadata": {
        "colab": {
          "base_uri": "https://localhost:8080/"
        },
        "id": "9HSoE6aFvLsj",
        "outputId": "7fc61083-f9c0-4079-f8ee-a850ad533140"
      },
      "source": [
        "model_1.score(X_test, y_test)"
      ],
      "id": "9HSoE6aFvLsj",
      "execution_count": 48,
      "outputs": [
        {
          "output_type": "execute_result",
          "data": {
            "text/plain": [
              "0.8582"
            ]
          },
          "metadata": {},
          "execution_count": 48
        }
      ]
    },
    {
      "cell_type": "markdown",
      "metadata": {
        "id": "b3759ca2-0199-4805-ac3d-307096860a20"
      },
      "source": [
        "****Display model and results****"
      ],
      "id": "b3759ca2-0199-4805-ac3d-307096860a20"
    },
    {
      "cell_type": "code",
      "metadata": {
        "id": "X_9HZvS_yaz3"
      },
      "source": [
        "from sklearn import metrics"
      ],
      "id": "X_9HZvS_yaz3",
      "execution_count": 12,
      "outputs": []
    },
    {
      "cell_type": "markdown",
      "metadata": {
        "id": "d44f9a1a-e80e-4fba-aee0-0787d250430a"
      },
      "source": [
        "****make predictions on test dataset****"
      ],
      "id": "d44f9a1a-e80e-4fba-aee0-0787d250430a"
    },
    {
      "cell_type": "code",
      "metadata": {
        "id": "760a5590-d74e-4454-9436-17b4ef0d2a80"
      },
      "source": [
        "expected_y  = y_test\n",
        "predicted_y = model.predict(X_test)"
      ],
      "id": "760a5590-d74e-4454-9436-17b4ef0d2a80",
      "execution_count": 13,
      "outputs": []
    },
    {
      "cell_type": "markdown",
      "metadata": {
        "id": "097de5e6-3b95-47c5-afd2-6944fec61084"
      },
      "source": [
        "****Check predictions accuracy****"
      ],
      "id": "097de5e6-3b95-47c5-afd2-6944fec61084"
    },
    {
      "cell_type": "code",
      "metadata": {
        "colab": {
          "base_uri": "https://localhost:8080/"
        },
        "id": "302841dc-bf40-4ec2-8aa3-4ccf8589dbb6",
        "outputId": "dd6eb8f1-012e-4876-f329-7fc885a83955"
      },
      "source": [
        "print(); print(metrics.classification_report(expected_y, predicted_y, target_names=class_names))\n",
        "print(); print(metrics.confusion_matrix(expected_y, predicted_y))"
      ],
      "id": "302841dc-bf40-4ec2-8aa3-4ccf8589dbb6",
      "execution_count": 18,
      "outputs": [
        {
          "output_type": "stream",
          "name": "stdout",
          "text": [
            "\n",
            "              precision    recall  f1-score   support\n",
            "\n",
            " T-shirt/top       0.81      0.83      0.82      1000\n",
            "     Trouser       0.99      0.96      0.97      1000\n",
            "    Pullover       0.74      0.76      0.75      1000\n",
            "       Dress       0.85      0.89      0.87      1000\n",
            "        Coat       0.74      0.78      0.76      1000\n",
            "      Sandal       0.98      0.94      0.96      1000\n",
            "       Shirt       0.68      0.58      0.62      1000\n",
            "     Sneaker       0.92      0.93      0.92      1000\n",
            "         Bag       0.95      0.96      0.96      1000\n",
            "  Ankle boot       0.93      0.94      0.94      1000\n",
            "\n",
            "    accuracy                           0.86     10000\n",
            "   macro avg       0.86      0.86      0.86     10000\n",
            "weighted avg       0.86      0.86      0.86     10000\n",
            "\n",
            "\n",
            "[[832   0  10  42   8   1  92   0  15   0]\n",
            " [  4 960   5  22   3   0   4   0   2   0]\n",
            " [ 16   1 761   8 140   0  67   0   7   0]\n",
            " [ 24   6  12 893  31   0  32   0   2   0]\n",
            " [  0   1 112  39 778   0  68   0   2   0]\n",
            " [  0   0   0   1   0 940   0  38   2  19]\n",
            " [155   1 124  33  91   0 579   0  17   0]\n",
            " [  0   0   0   0   0  13   0 934   0  53]\n",
            " [  0   1   8   6   6   2  11   4 960   2]\n",
            " [  0   0   0   1   0   7   1  44   2 945]]\n"
          ]
        }
      ]
    },
    {
      "cell_type": "markdown",
      "metadata": {
        "id": "hw6eO4EMzCJb"
      },
      "source": [
        "### Model 2\n",
        "Increasing the number of estimators"
      ],
      "id": "hw6eO4EMzCJb"
    },
    {
      "cell_type": "code",
      "metadata": {
        "colab": {
          "base_uri": "https://localhost:8080/"
        },
        "id": "greV1Twe2VKH",
        "outputId": "63233f6a-0b45-4202-e33c-3f5f452a381b"
      },
      "source": [
        "model_2 = xgb.XGBClassifier(tree_method='gpu_hist', gpu_id=0, n_jobs=-1, n_estimators=300)\n",
        "model_2.fit(X_train, y_train, verbose=True)"
      ],
      "id": "greV1Twe2VKH",
      "execution_count": 49,
      "outputs": [
        {
          "output_type": "execute_result",
          "data": {
            "text/plain": [
              "XGBClassifier(base_score=0.5, booster='gbtree', colsample_bylevel=1,\n",
              "              colsample_bynode=1, colsample_bytree=1, gamma=0, gpu_id=0,\n",
              "              learning_rate=0.1, max_delta_step=0, max_depth=3,\n",
              "              min_child_weight=1, missing=None, n_estimators=300, n_jobs=-1,\n",
              "              nthread=None, objective='multi:softprob', random_state=0,\n",
              "              reg_alpha=0, reg_lambda=1, scale_pos_weight=1, seed=None,\n",
              "              silent=None, subsample=1, tree_method='gpu_hist', verbosity=1)"
            ]
          },
          "metadata": {},
          "execution_count": 49
        }
      ]
    },
    {
      "cell_type": "code",
      "metadata": {
        "colab": {
          "base_uri": "https://localhost:8080/"
        },
        "id": "uX8l2QI-3QCV",
        "outputId": "3fbc5b58-5da4-4179-f209-5b7f2c923bd3"
      },
      "source": [
        "model_2.score(X_test, y_test)"
      ],
      "id": "uX8l2QI-3QCV",
      "execution_count": 50,
      "outputs": [
        {
          "output_type": "execute_result",
          "data": {
            "text/plain": [
              "0.8824"
            ]
          },
          "metadata": {},
          "execution_count": 50
        }
      ]
    },
    {
      "cell_type": "markdown",
      "metadata": {
        "id": "QzoDjrlcETlz"
      },
      "source": [
        "### Model 3\n",
        "Changing the learning rate"
      ],
      "id": "QzoDjrlcETlz"
    },
    {
      "cell_type": "code",
      "metadata": {
        "colab": {
          "base_uri": "https://localhost:8080/"
        },
        "id": "azF2RLTM3PlG",
        "outputId": "9c9e8abd-b711-4325-89a4-1e08e3c8f48e"
      },
      "source": [
        "model_3 = xgb.XGBClassifier(tree_method='gpu_hist', gpu_id=0, n_jobs=-1, n_estimators=300, learning_rate=0.3)\n",
        "model_3.fit(X_train, y_train, verbose=True)"
      ],
      "id": "azF2RLTM3PlG",
      "execution_count": 51,
      "outputs": [
        {
          "output_type": "execute_result",
          "data": {
            "text/plain": [
              "XGBClassifier(base_score=0.5, booster='gbtree', colsample_bylevel=1,\n",
              "              colsample_bynode=1, colsample_bytree=1, gamma=0, gpu_id=0,\n",
              "              learning_rate=0.3, max_delta_step=0, max_depth=3,\n",
              "              min_child_weight=1, missing=None, n_estimators=300, n_jobs=-1,\n",
              "              nthread=None, objective='multi:softprob', random_state=0,\n",
              "              reg_alpha=0, reg_lambda=1, scale_pos_weight=1, seed=None,\n",
              "              silent=None, subsample=1, tree_method='gpu_hist', verbosity=1)"
            ]
          },
          "metadata": {},
          "execution_count": 51
        }
      ]
    },
    {
      "cell_type": "code",
      "metadata": {
        "colab": {
          "base_uri": "https://localhost:8080/"
        },
        "id": "nCBQeIdP3PTq",
        "outputId": "56eae4ee-7289-487a-91da-0726b2886a9d"
      },
      "source": [
        "model_3.score(X_test, y_test)"
      ],
      "id": "nCBQeIdP3PTq",
      "execution_count": 52,
      "outputs": [
        {
          "output_type": "execute_result",
          "data": {
            "text/plain": [
              "0.8966"
            ]
          },
          "metadata": {},
          "execution_count": 52
        }
      ]
    },
    {
      "cell_type": "markdown",
      "metadata": {
        "id": "5yLLKfrxEgVZ"
      },
      "source": [
        "## Conclusion\n",
        "\n",
        "I've tested 3 different XGBoost models.  \n",
        "We can see how changing a single hyper-parameter can improve the model."
      ],
      "id": "5yLLKfrxEgVZ"
    },
    {
      "cell_type": "code",
      "metadata": {
        "id": "5UyMeo3gE7ry"
      },
      "source": [
        ""
      ],
      "id": "5UyMeo3gE7ry",
      "execution_count": null,
      "outputs": []
    }
  ]
}